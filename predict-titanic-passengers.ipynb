{
 "cells": [
  {
   "cell_type": "code",
   "execution_count": 1,
   "id": "c310b252",
   "metadata": {
    "_cell_guid": "b1076dfc-b9ad-4769-8c92-a6c4dae69d19",
    "_uuid": "8f2839f25d086af736a60e9eeb907d3b93b6e0e5",
    "execution": {
     "iopub.execute_input": "2022-06-27T03:25:35.724354Z",
     "iopub.status.busy": "2022-06-27T03:25:35.723946Z",
     "iopub.status.idle": "2022-06-27T03:25:37.089261Z",
     "shell.execute_reply": "2022-06-27T03:25:37.088441Z"
    },
    "papermill": {
     "duration": 1.394153,
     "end_time": "2022-06-27T03:25:37.091882",
     "exception": false,
     "start_time": "2022-06-27T03:25:35.697729",
     "status": "completed"
    },
    "tags": []
   },
   "outputs": [
    {
     "name": "stdout",
     "output_type": "stream",
     "text": [
      "/kaggle/input/titanic/train.csv\n",
      "/kaggle/input/titanic/test.csv\n",
      "/kaggle/input/titanic/gender_submission.csv\n"
     ]
    }
   ],
   "source": [
    "import numpy as np # linear algebra\n",
    "import pandas as pd # data processing, CSV file I/O (e.g. pd.read_csv)\n",
    "import matplotlib.pyplot as plt\n",
    "import seaborn as sns\n",
    "\n",
    "import os\n",
    "for dirname, _, filenames in os.walk('/kaggle/input'):\n",
    "    for filename in filenames:\n",
    "        print(os.path.join(dirname, filename))"
   ]
  },
  {
   "cell_type": "code",
   "execution_count": 2,
   "id": "994699d4",
   "metadata": {
    "execution": {
     "iopub.execute_input": "2022-06-27T03:25:37.143013Z",
     "iopub.status.busy": "2022-06-27T03:25:37.142163Z",
     "iopub.status.idle": "2022-06-27T03:25:37.191858Z",
     "shell.execute_reply": "2022-06-27T03:25:37.190707Z"
    },
    "papermill": {
     "duration": 0.077994,
     "end_time": "2022-06-27T03:25:37.193860",
     "exception": false,
     "start_time": "2022-06-27T03:25:37.115866",
     "status": "completed"
    },
    "tags": []
   },
   "outputs": [
    {
     "data": {
      "text/html": [
       "<div>\n",
       "<style scoped>\n",
       "    .dataframe tbody tr th:only-of-type {\n",
       "        vertical-align: middle;\n",
       "    }\n",
       "\n",
       "    .dataframe tbody tr th {\n",
       "        vertical-align: top;\n",
       "    }\n",
       "\n",
       "    .dataframe thead th {\n",
       "        text-align: right;\n",
       "    }\n",
       "</style>\n",
       "<table border=\"1\" class=\"dataframe\">\n",
       "  <thead>\n",
       "    <tr style=\"text-align: right;\">\n",
       "      <th></th>\n",
       "      <th>PassengerId</th>\n",
       "      <th>Survived</th>\n",
       "      <th>Pclass</th>\n",
       "      <th>Name</th>\n",
       "      <th>Sex</th>\n",
       "      <th>Age</th>\n",
       "      <th>SibSp</th>\n",
       "      <th>Parch</th>\n",
       "      <th>Ticket</th>\n",
       "      <th>Fare</th>\n",
       "      <th>Cabin</th>\n",
       "      <th>Embarked</th>\n",
       "    </tr>\n",
       "  </thead>\n",
       "  <tbody>\n",
       "    <tr>\n",
       "      <th>0</th>\n",
       "      <td>1</td>\n",
       "      <td>0</td>\n",
       "      <td>3</td>\n",
       "      <td>Braund, Mr. Owen Harris</td>\n",
       "      <td>male</td>\n",
       "      <td>22.0</td>\n",
       "      <td>1</td>\n",
       "      <td>0</td>\n",
       "      <td>A/5 21171</td>\n",
       "      <td>7.2500</td>\n",
       "      <td>NaN</td>\n",
       "      <td>S</td>\n",
       "    </tr>\n",
       "    <tr>\n",
       "      <th>1</th>\n",
       "      <td>2</td>\n",
       "      <td>1</td>\n",
       "      <td>1</td>\n",
       "      <td>Cumings, Mrs. John Bradley (Florence Briggs Th...</td>\n",
       "      <td>female</td>\n",
       "      <td>38.0</td>\n",
       "      <td>1</td>\n",
       "      <td>0</td>\n",
       "      <td>PC 17599</td>\n",
       "      <td>71.2833</td>\n",
       "      <td>C85</td>\n",
       "      <td>C</td>\n",
       "    </tr>\n",
       "    <tr>\n",
       "      <th>2</th>\n",
       "      <td>3</td>\n",
       "      <td>1</td>\n",
       "      <td>3</td>\n",
       "      <td>Heikkinen, Miss. Laina</td>\n",
       "      <td>female</td>\n",
       "      <td>26.0</td>\n",
       "      <td>0</td>\n",
       "      <td>0</td>\n",
       "      <td>STON/O2. 3101282</td>\n",
       "      <td>7.9250</td>\n",
       "      <td>NaN</td>\n",
       "      <td>S</td>\n",
       "    </tr>\n",
       "    <tr>\n",
       "      <th>3</th>\n",
       "      <td>4</td>\n",
       "      <td>1</td>\n",
       "      <td>1</td>\n",
       "      <td>Futrelle, Mrs. Jacques Heath (Lily May Peel)</td>\n",
       "      <td>female</td>\n",
       "      <td>35.0</td>\n",
       "      <td>1</td>\n",
       "      <td>0</td>\n",
       "      <td>113803</td>\n",
       "      <td>53.1000</td>\n",
       "      <td>C123</td>\n",
       "      <td>S</td>\n",
       "    </tr>\n",
       "    <tr>\n",
       "      <th>4</th>\n",
       "      <td>5</td>\n",
       "      <td>0</td>\n",
       "      <td>3</td>\n",
       "      <td>Allen, Mr. William Henry</td>\n",
       "      <td>male</td>\n",
       "      <td>35.0</td>\n",
       "      <td>0</td>\n",
       "      <td>0</td>\n",
       "      <td>373450</td>\n",
       "      <td>8.0500</td>\n",
       "      <td>NaN</td>\n",
       "      <td>S</td>\n",
       "    </tr>\n",
       "    <tr>\n",
       "      <th>...</th>\n",
       "      <td>...</td>\n",
       "      <td>...</td>\n",
       "      <td>...</td>\n",
       "      <td>...</td>\n",
       "      <td>...</td>\n",
       "      <td>...</td>\n",
       "      <td>...</td>\n",
       "      <td>...</td>\n",
       "      <td>...</td>\n",
       "      <td>...</td>\n",
       "      <td>...</td>\n",
       "      <td>...</td>\n",
       "    </tr>\n",
       "    <tr>\n",
       "      <th>886</th>\n",
       "      <td>887</td>\n",
       "      <td>0</td>\n",
       "      <td>2</td>\n",
       "      <td>Montvila, Rev. Juozas</td>\n",
       "      <td>male</td>\n",
       "      <td>27.0</td>\n",
       "      <td>0</td>\n",
       "      <td>0</td>\n",
       "      <td>211536</td>\n",
       "      <td>13.0000</td>\n",
       "      <td>NaN</td>\n",
       "      <td>S</td>\n",
       "    </tr>\n",
       "    <tr>\n",
       "      <th>887</th>\n",
       "      <td>888</td>\n",
       "      <td>1</td>\n",
       "      <td>1</td>\n",
       "      <td>Graham, Miss. Margaret Edith</td>\n",
       "      <td>female</td>\n",
       "      <td>19.0</td>\n",
       "      <td>0</td>\n",
       "      <td>0</td>\n",
       "      <td>112053</td>\n",
       "      <td>30.0000</td>\n",
       "      <td>B42</td>\n",
       "      <td>S</td>\n",
       "    </tr>\n",
       "    <tr>\n",
       "      <th>888</th>\n",
       "      <td>889</td>\n",
       "      <td>0</td>\n",
       "      <td>3</td>\n",
       "      <td>Johnston, Miss. Catherine Helen \"Carrie\"</td>\n",
       "      <td>female</td>\n",
       "      <td>NaN</td>\n",
       "      <td>1</td>\n",
       "      <td>2</td>\n",
       "      <td>W./C. 6607</td>\n",
       "      <td>23.4500</td>\n",
       "      <td>NaN</td>\n",
       "      <td>S</td>\n",
       "    </tr>\n",
       "    <tr>\n",
       "      <th>889</th>\n",
       "      <td>890</td>\n",
       "      <td>1</td>\n",
       "      <td>1</td>\n",
       "      <td>Behr, Mr. Karl Howell</td>\n",
       "      <td>male</td>\n",
       "      <td>26.0</td>\n",
       "      <td>0</td>\n",
       "      <td>0</td>\n",
       "      <td>111369</td>\n",
       "      <td>30.0000</td>\n",
       "      <td>C148</td>\n",
       "      <td>C</td>\n",
       "    </tr>\n",
       "    <tr>\n",
       "      <th>890</th>\n",
       "      <td>891</td>\n",
       "      <td>0</td>\n",
       "      <td>3</td>\n",
       "      <td>Dooley, Mr. Patrick</td>\n",
       "      <td>male</td>\n",
       "      <td>32.0</td>\n",
       "      <td>0</td>\n",
       "      <td>0</td>\n",
       "      <td>370376</td>\n",
       "      <td>7.7500</td>\n",
       "      <td>NaN</td>\n",
       "      <td>Q</td>\n",
       "    </tr>\n",
       "  </tbody>\n",
       "</table>\n",
       "<p>891 rows × 12 columns</p>\n",
       "</div>"
      ],
      "text/plain": [
       "     PassengerId  Survived  Pclass  \\\n",
       "0              1         0       3   \n",
       "1              2         1       1   \n",
       "2              3         1       3   \n",
       "3              4         1       1   \n",
       "4              5         0       3   \n",
       "..           ...       ...     ...   \n",
       "886          887         0       2   \n",
       "887          888         1       1   \n",
       "888          889         0       3   \n",
       "889          890         1       1   \n",
       "890          891         0       3   \n",
       "\n",
       "                                                  Name     Sex   Age  SibSp  \\\n",
       "0                              Braund, Mr. Owen Harris    male  22.0      1   \n",
       "1    Cumings, Mrs. John Bradley (Florence Briggs Th...  female  38.0      1   \n",
       "2                               Heikkinen, Miss. Laina  female  26.0      0   \n",
       "3         Futrelle, Mrs. Jacques Heath (Lily May Peel)  female  35.0      1   \n",
       "4                             Allen, Mr. William Henry    male  35.0      0   \n",
       "..                                                 ...     ...   ...    ...   \n",
       "886                              Montvila, Rev. Juozas    male  27.0      0   \n",
       "887                       Graham, Miss. Margaret Edith  female  19.0      0   \n",
       "888           Johnston, Miss. Catherine Helen \"Carrie\"  female   NaN      1   \n",
       "889                              Behr, Mr. Karl Howell    male  26.0      0   \n",
       "890                                Dooley, Mr. Patrick    male  32.0      0   \n",
       "\n",
       "     Parch            Ticket     Fare Cabin Embarked  \n",
       "0        0         A/5 21171   7.2500   NaN        S  \n",
       "1        0          PC 17599  71.2833   C85        C  \n",
       "2        0  STON/O2. 3101282   7.9250   NaN        S  \n",
       "3        0            113803  53.1000  C123        S  \n",
       "4        0            373450   8.0500   NaN        S  \n",
       "..     ...               ...      ...   ...      ...  \n",
       "886      0            211536  13.0000   NaN        S  \n",
       "887      0            112053  30.0000   B42        S  \n",
       "888      2        W./C. 6607  23.4500   NaN        S  \n",
       "889      0            111369  30.0000  C148        C  \n",
       "890      0            370376   7.7500   NaN        Q  \n",
       "\n",
       "[891 rows x 12 columns]"
      ]
     },
     "execution_count": 2,
     "metadata": {},
     "output_type": "execute_result"
    }
   ],
   "source": [
    "raw_train = pd.read_csv(\"/kaggle/input/titanic/train.csv\")\n",
    "raw_train"
   ]
  },
  {
   "cell_type": "code",
   "execution_count": 3,
   "id": "8f2f4a35",
   "metadata": {
    "execution": {
     "iopub.execute_input": "2022-06-27T03:25:37.243321Z",
     "iopub.status.busy": "2022-06-27T03:25:37.242677Z",
     "iopub.status.idle": "2022-06-27T03:25:37.273610Z",
     "shell.execute_reply": "2022-06-27T03:25:37.272176Z"
    },
    "papermill": {
     "duration": 0.05844,
     "end_time": "2022-06-27T03:25:37.275993",
     "exception": false,
     "start_time": "2022-06-27T03:25:37.217553",
     "status": "completed"
    },
    "tags": []
   },
   "outputs": [
    {
     "data": {
      "text/html": [
       "<div>\n",
       "<style scoped>\n",
       "    .dataframe tbody tr th:only-of-type {\n",
       "        vertical-align: middle;\n",
       "    }\n",
       "\n",
       "    .dataframe tbody tr th {\n",
       "        vertical-align: top;\n",
       "    }\n",
       "\n",
       "    .dataframe thead th {\n",
       "        text-align: right;\n",
       "    }\n",
       "</style>\n",
       "<table border=\"1\" class=\"dataframe\">\n",
       "  <thead>\n",
       "    <tr style=\"text-align: right;\">\n",
       "      <th></th>\n",
       "      <th>PassengerId</th>\n",
       "      <th>Pclass</th>\n",
       "      <th>Name</th>\n",
       "      <th>Sex</th>\n",
       "      <th>Age</th>\n",
       "      <th>SibSp</th>\n",
       "      <th>Parch</th>\n",
       "      <th>Ticket</th>\n",
       "      <th>Fare</th>\n",
       "      <th>Cabin</th>\n",
       "      <th>Embarked</th>\n",
       "    </tr>\n",
       "  </thead>\n",
       "  <tbody>\n",
       "    <tr>\n",
       "      <th>0</th>\n",
       "      <td>892</td>\n",
       "      <td>3</td>\n",
       "      <td>Kelly, Mr. James</td>\n",
       "      <td>male</td>\n",
       "      <td>34.5</td>\n",
       "      <td>0</td>\n",
       "      <td>0</td>\n",
       "      <td>330911</td>\n",
       "      <td>7.8292</td>\n",
       "      <td>NaN</td>\n",
       "      <td>Q</td>\n",
       "    </tr>\n",
       "    <tr>\n",
       "      <th>1</th>\n",
       "      <td>893</td>\n",
       "      <td>3</td>\n",
       "      <td>Wilkes, Mrs. James (Ellen Needs)</td>\n",
       "      <td>female</td>\n",
       "      <td>47.0</td>\n",
       "      <td>1</td>\n",
       "      <td>0</td>\n",
       "      <td>363272</td>\n",
       "      <td>7.0000</td>\n",
       "      <td>NaN</td>\n",
       "      <td>S</td>\n",
       "    </tr>\n",
       "    <tr>\n",
       "      <th>2</th>\n",
       "      <td>894</td>\n",
       "      <td>2</td>\n",
       "      <td>Myles, Mr. Thomas Francis</td>\n",
       "      <td>male</td>\n",
       "      <td>62.0</td>\n",
       "      <td>0</td>\n",
       "      <td>0</td>\n",
       "      <td>240276</td>\n",
       "      <td>9.6875</td>\n",
       "      <td>NaN</td>\n",
       "      <td>Q</td>\n",
       "    </tr>\n",
       "    <tr>\n",
       "      <th>3</th>\n",
       "      <td>895</td>\n",
       "      <td>3</td>\n",
       "      <td>Wirz, Mr. Albert</td>\n",
       "      <td>male</td>\n",
       "      <td>27.0</td>\n",
       "      <td>0</td>\n",
       "      <td>0</td>\n",
       "      <td>315154</td>\n",
       "      <td>8.6625</td>\n",
       "      <td>NaN</td>\n",
       "      <td>S</td>\n",
       "    </tr>\n",
       "    <tr>\n",
       "      <th>4</th>\n",
       "      <td>896</td>\n",
       "      <td>3</td>\n",
       "      <td>Hirvonen, Mrs. Alexander (Helga E Lindqvist)</td>\n",
       "      <td>female</td>\n",
       "      <td>22.0</td>\n",
       "      <td>1</td>\n",
       "      <td>1</td>\n",
       "      <td>3101298</td>\n",
       "      <td>12.2875</td>\n",
       "      <td>NaN</td>\n",
       "      <td>S</td>\n",
       "    </tr>\n",
       "    <tr>\n",
       "      <th>...</th>\n",
       "      <td>...</td>\n",
       "      <td>...</td>\n",
       "      <td>...</td>\n",
       "      <td>...</td>\n",
       "      <td>...</td>\n",
       "      <td>...</td>\n",
       "      <td>...</td>\n",
       "      <td>...</td>\n",
       "      <td>...</td>\n",
       "      <td>...</td>\n",
       "      <td>...</td>\n",
       "    </tr>\n",
       "    <tr>\n",
       "      <th>413</th>\n",
       "      <td>1305</td>\n",
       "      <td>3</td>\n",
       "      <td>Spector, Mr. Woolf</td>\n",
       "      <td>male</td>\n",
       "      <td>NaN</td>\n",
       "      <td>0</td>\n",
       "      <td>0</td>\n",
       "      <td>A.5. 3236</td>\n",
       "      <td>8.0500</td>\n",
       "      <td>NaN</td>\n",
       "      <td>S</td>\n",
       "    </tr>\n",
       "    <tr>\n",
       "      <th>414</th>\n",
       "      <td>1306</td>\n",
       "      <td>1</td>\n",
       "      <td>Oliva y Ocana, Dona. Fermina</td>\n",
       "      <td>female</td>\n",
       "      <td>39.0</td>\n",
       "      <td>0</td>\n",
       "      <td>0</td>\n",
       "      <td>PC 17758</td>\n",
       "      <td>108.9000</td>\n",
       "      <td>C105</td>\n",
       "      <td>C</td>\n",
       "    </tr>\n",
       "    <tr>\n",
       "      <th>415</th>\n",
       "      <td>1307</td>\n",
       "      <td>3</td>\n",
       "      <td>Saether, Mr. Simon Sivertsen</td>\n",
       "      <td>male</td>\n",
       "      <td>38.5</td>\n",
       "      <td>0</td>\n",
       "      <td>0</td>\n",
       "      <td>SOTON/O.Q. 3101262</td>\n",
       "      <td>7.2500</td>\n",
       "      <td>NaN</td>\n",
       "      <td>S</td>\n",
       "    </tr>\n",
       "    <tr>\n",
       "      <th>416</th>\n",
       "      <td>1308</td>\n",
       "      <td>3</td>\n",
       "      <td>Ware, Mr. Frederick</td>\n",
       "      <td>male</td>\n",
       "      <td>NaN</td>\n",
       "      <td>0</td>\n",
       "      <td>0</td>\n",
       "      <td>359309</td>\n",
       "      <td>8.0500</td>\n",
       "      <td>NaN</td>\n",
       "      <td>S</td>\n",
       "    </tr>\n",
       "    <tr>\n",
       "      <th>417</th>\n",
       "      <td>1309</td>\n",
       "      <td>3</td>\n",
       "      <td>Peter, Master. Michael J</td>\n",
       "      <td>male</td>\n",
       "      <td>NaN</td>\n",
       "      <td>1</td>\n",
       "      <td>1</td>\n",
       "      <td>2668</td>\n",
       "      <td>22.3583</td>\n",
       "      <td>NaN</td>\n",
       "      <td>C</td>\n",
       "    </tr>\n",
       "  </tbody>\n",
       "</table>\n",
       "<p>418 rows × 11 columns</p>\n",
       "</div>"
      ],
      "text/plain": [
       "     PassengerId  Pclass                                          Name  \\\n",
       "0            892       3                              Kelly, Mr. James   \n",
       "1            893       3              Wilkes, Mrs. James (Ellen Needs)   \n",
       "2            894       2                     Myles, Mr. Thomas Francis   \n",
       "3            895       3                              Wirz, Mr. Albert   \n",
       "4            896       3  Hirvonen, Mrs. Alexander (Helga E Lindqvist)   \n",
       "..           ...     ...                                           ...   \n",
       "413         1305       3                            Spector, Mr. Woolf   \n",
       "414         1306       1                  Oliva y Ocana, Dona. Fermina   \n",
       "415         1307       3                  Saether, Mr. Simon Sivertsen   \n",
       "416         1308       3                           Ware, Mr. Frederick   \n",
       "417         1309       3                      Peter, Master. Michael J   \n",
       "\n",
       "        Sex   Age  SibSp  Parch              Ticket      Fare Cabin Embarked  \n",
       "0      male  34.5      0      0              330911    7.8292   NaN        Q  \n",
       "1    female  47.0      1      0              363272    7.0000   NaN        S  \n",
       "2      male  62.0      0      0              240276    9.6875   NaN        Q  \n",
       "3      male  27.0      0      0              315154    8.6625   NaN        S  \n",
       "4    female  22.0      1      1             3101298   12.2875   NaN        S  \n",
       "..      ...   ...    ...    ...                 ...       ...   ...      ...  \n",
       "413    male   NaN      0      0           A.5. 3236    8.0500   NaN        S  \n",
       "414  female  39.0      0      0            PC 17758  108.9000  C105        C  \n",
       "415    male  38.5      0      0  SOTON/O.Q. 3101262    7.2500   NaN        S  \n",
       "416    male   NaN      0      0              359309    8.0500   NaN        S  \n",
       "417    male   NaN      1      1                2668   22.3583   NaN        C  \n",
       "\n",
       "[418 rows x 11 columns]"
      ]
     },
     "execution_count": 3,
     "metadata": {},
     "output_type": "execute_result"
    }
   ],
   "source": [
    "raw_test = pd.read_csv(\"/kaggle/input/titanic/test.csv\")\n",
    "raw_test"
   ]
  },
  {
   "cell_type": "markdown",
   "id": "dff36c4d",
   "metadata": {
    "papermill": {
     "duration": 0.024562,
     "end_time": "2022-06-27T03:25:37.324668",
     "exception": false,
     "start_time": "2022-06-27T03:25:37.300106",
     "status": "completed"
    },
    "tags": []
   },
   "source": [
    "# Eksplorasi Data"
   ]
  },
  {
   "cell_type": "code",
   "execution_count": 4,
   "id": "0ff85103",
   "metadata": {
    "execution": {
     "iopub.execute_input": "2022-06-27T03:25:37.375463Z",
     "iopub.status.busy": "2022-06-27T03:25:37.374884Z",
     "iopub.status.idle": "2022-06-27T03:25:37.384339Z",
     "shell.execute_reply": "2022-06-27T03:25:37.383162Z"
    },
    "papermill": {
     "duration": 0.036826,
     "end_time": "2022-06-27T03:25:37.386331",
     "exception": false,
     "start_time": "2022-06-27T03:25:37.349505",
     "status": "completed"
    },
    "tags": []
   },
   "outputs": [
    {
     "data": {
      "text/plain": [
       "PassengerId      int64\n",
       "Survived         int64\n",
       "Pclass           int64\n",
       "Name            object\n",
       "Sex             object\n",
       "Age            float64\n",
       "SibSp            int64\n",
       "Parch            int64\n",
       "Ticket          object\n",
       "Fare           float64\n",
       "Cabin           object\n",
       "Embarked        object\n",
       "dtype: object"
      ]
     },
     "execution_count": 4,
     "metadata": {},
     "output_type": "execute_result"
    }
   ],
   "source": [
    "raw_train.dtypes"
   ]
  },
  {
   "cell_type": "code",
   "execution_count": 5,
   "id": "48dde706",
   "metadata": {
    "execution": {
     "iopub.execute_input": "2022-06-27T03:25:37.438990Z",
     "iopub.status.busy": "2022-06-27T03:25:37.438459Z",
     "iopub.status.idle": "2022-06-27T03:25:37.478336Z",
     "shell.execute_reply": "2022-06-27T03:25:37.477262Z"
    },
    "papermill": {
     "duration": 0.067911,
     "end_time": "2022-06-27T03:25:37.480090",
     "exception": false,
     "start_time": "2022-06-27T03:25:37.412179",
     "status": "completed"
    },
    "tags": []
   },
   "outputs": [
    {
     "data": {
      "text/html": [
       "<div>\n",
       "<style scoped>\n",
       "    .dataframe tbody tr th:only-of-type {\n",
       "        vertical-align: middle;\n",
       "    }\n",
       "\n",
       "    .dataframe tbody tr th {\n",
       "        vertical-align: top;\n",
       "    }\n",
       "\n",
       "    .dataframe thead th {\n",
       "        text-align: right;\n",
       "    }\n",
       "</style>\n",
       "<table border=\"1\" class=\"dataframe\">\n",
       "  <thead>\n",
       "    <tr style=\"text-align: right;\">\n",
       "      <th></th>\n",
       "      <th>PassengerId</th>\n",
       "      <th>Survived</th>\n",
       "      <th>Pclass</th>\n",
       "      <th>Age</th>\n",
       "      <th>SibSp</th>\n",
       "      <th>Parch</th>\n",
       "      <th>Fare</th>\n",
       "    </tr>\n",
       "  </thead>\n",
       "  <tbody>\n",
       "    <tr>\n",
       "      <th>count</th>\n",
       "      <td>891.000000</td>\n",
       "      <td>891.000000</td>\n",
       "      <td>891.000000</td>\n",
       "      <td>714.000000</td>\n",
       "      <td>891.000000</td>\n",
       "      <td>891.000000</td>\n",
       "      <td>891.000000</td>\n",
       "    </tr>\n",
       "    <tr>\n",
       "      <th>mean</th>\n",
       "      <td>446.000000</td>\n",
       "      <td>0.383838</td>\n",
       "      <td>2.308642</td>\n",
       "      <td>29.699118</td>\n",
       "      <td>0.523008</td>\n",
       "      <td>0.381594</td>\n",
       "      <td>32.204208</td>\n",
       "    </tr>\n",
       "    <tr>\n",
       "      <th>std</th>\n",
       "      <td>257.353842</td>\n",
       "      <td>0.486592</td>\n",
       "      <td>0.836071</td>\n",
       "      <td>14.526497</td>\n",
       "      <td>1.102743</td>\n",
       "      <td>0.806057</td>\n",
       "      <td>49.693429</td>\n",
       "    </tr>\n",
       "    <tr>\n",
       "      <th>min</th>\n",
       "      <td>1.000000</td>\n",
       "      <td>0.000000</td>\n",
       "      <td>1.000000</td>\n",
       "      <td>0.420000</td>\n",
       "      <td>0.000000</td>\n",
       "      <td>0.000000</td>\n",
       "      <td>0.000000</td>\n",
       "    </tr>\n",
       "    <tr>\n",
       "      <th>25%</th>\n",
       "      <td>223.500000</td>\n",
       "      <td>0.000000</td>\n",
       "      <td>2.000000</td>\n",
       "      <td>20.125000</td>\n",
       "      <td>0.000000</td>\n",
       "      <td>0.000000</td>\n",
       "      <td>7.910400</td>\n",
       "    </tr>\n",
       "    <tr>\n",
       "      <th>50%</th>\n",
       "      <td>446.000000</td>\n",
       "      <td>0.000000</td>\n",
       "      <td>3.000000</td>\n",
       "      <td>28.000000</td>\n",
       "      <td>0.000000</td>\n",
       "      <td>0.000000</td>\n",
       "      <td>14.454200</td>\n",
       "    </tr>\n",
       "    <tr>\n",
       "      <th>75%</th>\n",
       "      <td>668.500000</td>\n",
       "      <td>1.000000</td>\n",
       "      <td>3.000000</td>\n",
       "      <td>38.000000</td>\n",
       "      <td>1.000000</td>\n",
       "      <td>0.000000</td>\n",
       "      <td>31.000000</td>\n",
       "    </tr>\n",
       "    <tr>\n",
       "      <th>max</th>\n",
       "      <td>891.000000</td>\n",
       "      <td>1.000000</td>\n",
       "      <td>3.000000</td>\n",
       "      <td>80.000000</td>\n",
       "      <td>8.000000</td>\n",
       "      <td>6.000000</td>\n",
       "      <td>512.329200</td>\n",
       "    </tr>\n",
       "  </tbody>\n",
       "</table>\n",
       "</div>"
      ],
      "text/plain": [
       "       PassengerId    Survived      Pclass         Age       SibSp  \\\n",
       "count   891.000000  891.000000  891.000000  714.000000  891.000000   \n",
       "mean    446.000000    0.383838    2.308642   29.699118    0.523008   \n",
       "std     257.353842    0.486592    0.836071   14.526497    1.102743   \n",
       "min       1.000000    0.000000    1.000000    0.420000    0.000000   \n",
       "25%     223.500000    0.000000    2.000000   20.125000    0.000000   \n",
       "50%     446.000000    0.000000    3.000000   28.000000    0.000000   \n",
       "75%     668.500000    1.000000    3.000000   38.000000    1.000000   \n",
       "max     891.000000    1.000000    3.000000   80.000000    8.000000   \n",
       "\n",
       "            Parch        Fare  \n",
       "count  891.000000  891.000000  \n",
       "mean     0.381594   32.204208  \n",
       "std      0.806057   49.693429  \n",
       "min      0.000000    0.000000  \n",
       "25%      0.000000    7.910400  \n",
       "50%      0.000000   14.454200  \n",
       "75%      0.000000   31.000000  \n",
       "max      6.000000  512.329200  "
      ]
     },
     "execution_count": 5,
     "metadata": {},
     "output_type": "execute_result"
    }
   ],
   "source": [
    "raw_train.describe()"
   ]
  },
  {
   "cell_type": "code",
   "execution_count": 6,
   "id": "a0dd088e",
   "metadata": {
    "execution": {
     "iopub.execute_input": "2022-06-27T03:25:37.512889Z",
     "iopub.status.busy": "2022-06-27T03:25:37.512104Z",
     "iopub.status.idle": "2022-06-27T03:25:37.533014Z",
     "shell.execute_reply": "2022-06-27T03:25:37.532327Z"
    },
    "papermill": {
     "duration": 0.039507,
     "end_time": "2022-06-27T03:25:37.534723",
     "exception": false,
     "start_time": "2022-06-27T03:25:37.495216",
     "status": "completed"
    },
    "tags": []
   },
   "outputs": [
    {
     "data": {
      "text/html": [
       "<div>\n",
       "<style scoped>\n",
       "    .dataframe tbody tr th:only-of-type {\n",
       "        vertical-align: middle;\n",
       "    }\n",
       "\n",
       "    .dataframe tbody tr th {\n",
       "        vertical-align: top;\n",
       "    }\n",
       "\n",
       "    .dataframe thead th {\n",
       "        text-align: right;\n",
       "    }\n",
       "</style>\n",
       "<table border=\"1\" class=\"dataframe\">\n",
       "  <thead>\n",
       "    <tr style=\"text-align: right;\">\n",
       "      <th></th>\n",
       "      <th>Name</th>\n",
       "      <th>Sex</th>\n",
       "      <th>Ticket</th>\n",
       "      <th>Cabin</th>\n",
       "      <th>Embarked</th>\n",
       "    </tr>\n",
       "  </thead>\n",
       "  <tbody>\n",
       "    <tr>\n",
       "      <th>count</th>\n",
       "      <td>891</td>\n",
       "      <td>891</td>\n",
       "      <td>891</td>\n",
       "      <td>204</td>\n",
       "      <td>889</td>\n",
       "    </tr>\n",
       "    <tr>\n",
       "      <th>unique</th>\n",
       "      <td>891</td>\n",
       "      <td>2</td>\n",
       "      <td>681</td>\n",
       "      <td>147</td>\n",
       "      <td>3</td>\n",
       "    </tr>\n",
       "    <tr>\n",
       "      <th>top</th>\n",
       "      <td>Braund, Mr. Owen Harris</td>\n",
       "      <td>male</td>\n",
       "      <td>347082</td>\n",
       "      <td>B96 B98</td>\n",
       "      <td>S</td>\n",
       "    </tr>\n",
       "    <tr>\n",
       "      <th>freq</th>\n",
       "      <td>1</td>\n",
       "      <td>577</td>\n",
       "      <td>7</td>\n",
       "      <td>4</td>\n",
       "      <td>644</td>\n",
       "    </tr>\n",
       "  </tbody>\n",
       "</table>\n",
       "</div>"
      ],
      "text/plain": [
       "                           Name   Sex  Ticket    Cabin Embarked\n",
       "count                       891   891     891      204      889\n",
       "unique                      891     2     681      147        3\n",
       "top     Braund, Mr. Owen Harris  male  347082  B96 B98        S\n",
       "freq                          1   577       7        4      644"
      ]
     },
     "execution_count": 6,
     "metadata": {},
     "output_type": "execute_result"
    }
   ],
   "source": [
    "raw_train.describe(include='object')"
   ]
  },
  {
   "cell_type": "code",
   "execution_count": 7,
   "id": "c7b50219",
   "metadata": {
    "execution": {
     "iopub.execute_input": "2022-06-27T03:25:37.567592Z",
     "iopub.status.busy": "2022-06-27T03:25:37.566967Z",
     "iopub.status.idle": "2022-06-27T03:25:37.575484Z",
     "shell.execute_reply": "2022-06-27T03:25:37.574333Z"
    },
    "papermill": {
     "duration": 0.027388,
     "end_time": "2022-06-27T03:25:37.577522",
     "exception": false,
     "start_time": "2022-06-27T03:25:37.550134",
     "status": "completed"
    },
    "tags": []
   },
   "outputs": [
    {
     "data": {
      "text/plain": [
       "PassengerId      int64\n",
       "Pclass           int64\n",
       "Name            object\n",
       "Sex             object\n",
       "Age            float64\n",
       "SibSp            int64\n",
       "Parch            int64\n",
       "Ticket          object\n",
       "Fare           float64\n",
       "Cabin           object\n",
       "Embarked        object\n",
       "dtype: object"
      ]
     },
     "execution_count": 7,
     "metadata": {},
     "output_type": "execute_result"
    }
   ],
   "source": [
    "raw_test.dtypes"
   ]
  },
  {
   "cell_type": "code",
   "execution_count": 8,
   "id": "0c1c7feb",
   "metadata": {
    "execution": {
     "iopub.execute_input": "2022-06-27T03:25:37.611097Z",
     "iopub.status.busy": "2022-06-27T03:25:37.610736Z",
     "iopub.status.idle": "2022-06-27T03:25:37.639449Z",
     "shell.execute_reply": "2022-06-27T03:25:37.638390Z"
    },
    "papermill": {
     "duration": 0.048353,
     "end_time": "2022-06-27T03:25:37.641365",
     "exception": false,
     "start_time": "2022-06-27T03:25:37.593012",
     "status": "completed"
    },
    "tags": []
   },
   "outputs": [
    {
     "data": {
      "text/html": [
       "<div>\n",
       "<style scoped>\n",
       "    .dataframe tbody tr th:only-of-type {\n",
       "        vertical-align: middle;\n",
       "    }\n",
       "\n",
       "    .dataframe tbody tr th {\n",
       "        vertical-align: top;\n",
       "    }\n",
       "\n",
       "    .dataframe thead th {\n",
       "        text-align: right;\n",
       "    }\n",
       "</style>\n",
       "<table border=\"1\" class=\"dataframe\">\n",
       "  <thead>\n",
       "    <tr style=\"text-align: right;\">\n",
       "      <th></th>\n",
       "      <th>PassengerId</th>\n",
       "      <th>Pclass</th>\n",
       "      <th>Age</th>\n",
       "      <th>SibSp</th>\n",
       "      <th>Parch</th>\n",
       "      <th>Fare</th>\n",
       "    </tr>\n",
       "  </thead>\n",
       "  <tbody>\n",
       "    <tr>\n",
       "      <th>count</th>\n",
       "      <td>418.000000</td>\n",
       "      <td>418.000000</td>\n",
       "      <td>332.000000</td>\n",
       "      <td>418.000000</td>\n",
       "      <td>418.000000</td>\n",
       "      <td>417.000000</td>\n",
       "    </tr>\n",
       "    <tr>\n",
       "      <th>mean</th>\n",
       "      <td>1100.500000</td>\n",
       "      <td>2.265550</td>\n",
       "      <td>30.272590</td>\n",
       "      <td>0.447368</td>\n",
       "      <td>0.392344</td>\n",
       "      <td>35.627188</td>\n",
       "    </tr>\n",
       "    <tr>\n",
       "      <th>std</th>\n",
       "      <td>120.810458</td>\n",
       "      <td>0.841838</td>\n",
       "      <td>14.181209</td>\n",
       "      <td>0.896760</td>\n",
       "      <td>0.981429</td>\n",
       "      <td>55.907576</td>\n",
       "    </tr>\n",
       "    <tr>\n",
       "      <th>min</th>\n",
       "      <td>892.000000</td>\n",
       "      <td>1.000000</td>\n",
       "      <td>0.170000</td>\n",
       "      <td>0.000000</td>\n",
       "      <td>0.000000</td>\n",
       "      <td>0.000000</td>\n",
       "    </tr>\n",
       "    <tr>\n",
       "      <th>25%</th>\n",
       "      <td>996.250000</td>\n",
       "      <td>1.000000</td>\n",
       "      <td>21.000000</td>\n",
       "      <td>0.000000</td>\n",
       "      <td>0.000000</td>\n",
       "      <td>7.895800</td>\n",
       "    </tr>\n",
       "    <tr>\n",
       "      <th>50%</th>\n",
       "      <td>1100.500000</td>\n",
       "      <td>3.000000</td>\n",
       "      <td>27.000000</td>\n",
       "      <td>0.000000</td>\n",
       "      <td>0.000000</td>\n",
       "      <td>14.454200</td>\n",
       "    </tr>\n",
       "    <tr>\n",
       "      <th>75%</th>\n",
       "      <td>1204.750000</td>\n",
       "      <td>3.000000</td>\n",
       "      <td>39.000000</td>\n",
       "      <td>1.000000</td>\n",
       "      <td>0.000000</td>\n",
       "      <td>31.500000</td>\n",
       "    </tr>\n",
       "    <tr>\n",
       "      <th>max</th>\n",
       "      <td>1309.000000</td>\n",
       "      <td>3.000000</td>\n",
       "      <td>76.000000</td>\n",
       "      <td>8.000000</td>\n",
       "      <td>9.000000</td>\n",
       "      <td>512.329200</td>\n",
       "    </tr>\n",
       "  </tbody>\n",
       "</table>\n",
       "</div>"
      ],
      "text/plain": [
       "       PassengerId      Pclass         Age       SibSp       Parch        Fare\n",
       "count   418.000000  418.000000  332.000000  418.000000  418.000000  417.000000\n",
       "mean   1100.500000    2.265550   30.272590    0.447368    0.392344   35.627188\n",
       "std     120.810458    0.841838   14.181209    0.896760    0.981429   55.907576\n",
       "min     892.000000    1.000000    0.170000    0.000000    0.000000    0.000000\n",
       "25%     996.250000    1.000000   21.000000    0.000000    0.000000    7.895800\n",
       "50%    1100.500000    3.000000   27.000000    0.000000    0.000000   14.454200\n",
       "75%    1204.750000    3.000000   39.000000    1.000000    0.000000   31.500000\n",
       "max    1309.000000    3.000000   76.000000    8.000000    9.000000  512.329200"
      ]
     },
     "execution_count": 8,
     "metadata": {},
     "output_type": "execute_result"
    }
   ],
   "source": [
    "raw_test.describe()"
   ]
  },
  {
   "cell_type": "code",
   "execution_count": 9,
   "id": "844e53ae",
   "metadata": {
    "execution": {
     "iopub.execute_input": "2022-06-27T03:25:37.674815Z",
     "iopub.status.busy": "2022-06-27T03:25:37.674471Z",
     "iopub.status.idle": "2022-06-27T03:25:37.696080Z",
     "shell.execute_reply": "2022-06-27T03:25:37.695482Z"
    },
    "papermill": {
     "duration": 0.041112,
     "end_time": "2022-06-27T03:25:37.698045",
     "exception": false,
     "start_time": "2022-06-27T03:25:37.656933",
     "status": "completed"
    },
    "tags": []
   },
   "outputs": [
    {
     "data": {
      "text/html": [
       "<div>\n",
       "<style scoped>\n",
       "    .dataframe tbody tr th:only-of-type {\n",
       "        vertical-align: middle;\n",
       "    }\n",
       "\n",
       "    .dataframe tbody tr th {\n",
       "        vertical-align: top;\n",
       "    }\n",
       "\n",
       "    .dataframe thead th {\n",
       "        text-align: right;\n",
       "    }\n",
       "</style>\n",
       "<table border=\"1\" class=\"dataframe\">\n",
       "  <thead>\n",
       "    <tr style=\"text-align: right;\">\n",
       "      <th></th>\n",
       "      <th>Name</th>\n",
       "      <th>Sex</th>\n",
       "      <th>Ticket</th>\n",
       "      <th>Cabin</th>\n",
       "      <th>Embarked</th>\n",
       "    </tr>\n",
       "  </thead>\n",
       "  <tbody>\n",
       "    <tr>\n",
       "      <th>count</th>\n",
       "      <td>418</td>\n",
       "      <td>418</td>\n",
       "      <td>418</td>\n",
       "      <td>91</td>\n",
       "      <td>418</td>\n",
       "    </tr>\n",
       "    <tr>\n",
       "      <th>unique</th>\n",
       "      <td>418</td>\n",
       "      <td>2</td>\n",
       "      <td>363</td>\n",
       "      <td>76</td>\n",
       "      <td>3</td>\n",
       "    </tr>\n",
       "    <tr>\n",
       "      <th>top</th>\n",
       "      <td>Kelly, Mr. James</td>\n",
       "      <td>male</td>\n",
       "      <td>PC 17608</td>\n",
       "      <td>B57 B59 B63 B66</td>\n",
       "      <td>S</td>\n",
       "    </tr>\n",
       "    <tr>\n",
       "      <th>freq</th>\n",
       "      <td>1</td>\n",
       "      <td>266</td>\n",
       "      <td>5</td>\n",
       "      <td>3</td>\n",
       "      <td>270</td>\n",
       "    </tr>\n",
       "  </tbody>\n",
       "</table>\n",
       "</div>"
      ],
      "text/plain": [
       "                    Name   Sex    Ticket            Cabin Embarked\n",
       "count                418   418       418               91      418\n",
       "unique               418     2       363               76        3\n",
       "top     Kelly, Mr. James  male  PC 17608  B57 B59 B63 B66        S\n",
       "freq                   1   266         5                3      270"
      ]
     },
     "execution_count": 9,
     "metadata": {},
     "output_type": "execute_result"
    }
   ],
   "source": [
    "raw_test.describe(include='object')"
   ]
  },
  {
   "cell_type": "markdown",
   "id": "3feeb37c",
   "metadata": {
    "papermill": {
     "duration": 0.024983,
     "end_time": "2022-06-27T03:25:37.748566",
     "exception": false,
     "start_time": "2022-06-27T03:25:37.723583",
     "status": "completed"
    },
    "tags": []
   },
   "source": [
    "## Cek Data Duplikat"
   ]
  },
  {
   "cell_type": "code",
   "execution_count": 10,
   "id": "cdf3c7b5",
   "metadata": {
    "execution": {
     "iopub.execute_input": "2022-06-27T03:25:37.800886Z",
     "iopub.status.busy": "2022-06-27T03:25:37.800622Z",
     "iopub.status.idle": "2022-06-27T03:25:37.811607Z",
     "shell.execute_reply": "2022-06-27T03:25:37.811042Z"
    },
    "papermill": {
     "duration": 0.039269,
     "end_time": "2022-06-27T03:25:37.813374",
     "exception": false,
     "start_time": "2022-06-27T03:25:37.774105",
     "status": "completed"
    },
    "tags": []
   },
   "outputs": [
    {
     "data": {
      "text/plain": [
       "0"
      ]
     },
     "execution_count": 10,
     "metadata": {},
     "output_type": "execute_result"
    }
   ],
   "source": [
    "raw_train.duplicated().sum()"
   ]
  },
  {
   "cell_type": "code",
   "execution_count": 11,
   "id": "04f59309",
   "metadata": {
    "execution": {
     "iopub.execute_input": "2022-06-27T03:25:37.866165Z",
     "iopub.status.busy": "2022-06-27T03:25:37.865665Z",
     "iopub.status.idle": "2022-06-27T03:25:37.872922Z",
     "shell.execute_reply": "2022-06-27T03:25:37.872408Z"
    },
    "papermill": {
     "duration": 0.035728,
     "end_time": "2022-06-27T03:25:37.874754",
     "exception": false,
     "start_time": "2022-06-27T03:25:37.839026",
     "status": "completed"
    },
    "tags": []
   },
   "outputs": [
    {
     "data": {
      "text/plain": [
       "0"
      ]
     },
     "execution_count": 11,
     "metadata": {},
     "output_type": "execute_result"
    }
   ],
   "source": [
    "raw_test.duplicated().sum()"
   ]
  },
  {
   "cell_type": "markdown",
   "id": "3b6bec99",
   "metadata": {
    "papermill": {
     "duration": 0.025564,
     "end_time": "2022-06-27T03:25:37.926143",
     "exception": false,
     "start_time": "2022-06-27T03:25:37.900579",
     "status": "completed"
    },
    "tags": []
   },
   "source": [
    "Tidak ada data duplikat pada `raw_train` dan `raw_test`."
   ]
  },
  {
   "cell_type": "markdown",
   "id": "7b307ef2",
   "metadata": {
    "papermill": {
     "duration": 0.025834,
     "end_time": "2022-06-27T03:25:37.978207",
     "exception": false,
     "start_time": "2022-06-27T03:25:37.952373",
     "status": "completed"
    },
    "tags": []
   },
   "source": [
    "## Cek Missing Value"
   ]
  },
  {
   "cell_type": "code",
   "execution_count": 12,
   "id": "74f4644a",
   "metadata": {
    "execution": {
     "iopub.execute_input": "2022-06-27T03:25:38.031737Z",
     "iopub.status.busy": "2022-06-27T03:25:38.031422Z",
     "iopub.status.idle": "2022-06-27T03:25:38.040475Z",
     "shell.execute_reply": "2022-06-27T03:25:38.039321Z"
    },
    "papermill": {
     "duration": 0.038717,
     "end_time": "2022-06-27T03:25:38.042786",
     "exception": false,
     "start_time": "2022-06-27T03:25:38.004069",
     "status": "completed"
    },
    "tags": []
   },
   "outputs": [
    {
     "data": {
      "text/plain": [
       "PassengerId      0\n",
       "Survived         0\n",
       "Pclass           0\n",
       "Name             0\n",
       "Sex              0\n",
       "Age            177\n",
       "SibSp            0\n",
       "Parch            0\n",
       "Ticket           0\n",
       "Fare             0\n",
       "Cabin          687\n",
       "Embarked         2\n",
       "dtype: int64"
      ]
     },
     "execution_count": 12,
     "metadata": {},
     "output_type": "execute_result"
    }
   ],
   "source": [
    "raw_train.isna().sum()"
   ]
  },
  {
   "cell_type": "markdown",
   "id": "04c07201",
   "metadata": {
    "papermill": {
     "duration": 0.025719,
     "end_time": "2022-06-27T03:25:38.094739",
     "exception": false,
     "start_time": "2022-06-27T03:25:38.069020",
     "status": "completed"
    },
    "tags": []
   },
   "source": [
    "Terdapat 177 _missing data_ pada kolom `Age`, 687 _missing data_ pada kolom `Cabin`, dan 2 _missing data_ pada kolom `Embarked` di dalam _dataframe_ `raw_train`."
   ]
  },
  {
   "cell_type": "code",
   "execution_count": 13,
   "id": "14e3e952",
   "metadata": {
    "execution": {
     "iopub.execute_input": "2022-06-27T03:25:38.147722Z",
     "iopub.status.busy": "2022-06-27T03:25:38.147437Z",
     "iopub.status.idle": "2022-06-27T03:25:38.153740Z",
     "shell.execute_reply": "2022-06-27T03:25:38.153210Z"
    },
    "papermill": {
     "duration": 0.034989,
     "end_time": "2022-06-27T03:25:38.155678",
     "exception": false,
     "start_time": "2022-06-27T03:25:38.120689",
     "status": "completed"
    },
    "tags": []
   },
   "outputs": [
    {
     "data": {
      "text/plain": [
       "PassengerId      0\n",
       "Pclass           0\n",
       "Name             0\n",
       "Sex              0\n",
       "Age             86\n",
       "SibSp            0\n",
       "Parch            0\n",
       "Ticket           0\n",
       "Fare             1\n",
       "Cabin          327\n",
       "Embarked         0\n",
       "dtype: int64"
      ]
     },
     "execution_count": 13,
     "metadata": {},
     "output_type": "execute_result"
    }
   ],
   "source": [
    "raw_test.isna().sum()"
   ]
  },
  {
   "cell_type": "markdown",
   "id": "d0bb618b",
   "metadata": {
    "papermill": {
     "duration": 0.026078,
     "end_time": "2022-06-27T03:25:38.208235",
     "exception": false,
     "start_time": "2022-06-27T03:25:38.182157",
     "status": "completed"
    },
    "tags": []
   },
   "source": [
    "Terdapat 86 _missing data_ pada kolom `Age`, 1 _missing data_ pada kolom `Fare`, dan 327 _missing data_ pada kolom `Cabin` dalam _dataframe_ `raw_test`."
   ]
  },
  {
   "cell_type": "markdown",
   "id": "9c74ad07",
   "metadata": {
    "papermill": {
     "duration": 0.025743,
     "end_time": "2022-06-27T03:25:38.260447",
     "exception": false,
     "start_time": "2022-06-27T03:25:38.234704",
     "status": "completed"
    },
    "tags": []
   },
   "source": [
    "## Target\n",
    "Tujuan proyek ini adalah memprediksi penumpang Titanic selamat atau tidak. Sehingga target adalah kolom `Survived`. Penumpang selamat bernilai 1 dan penumpang yang tidka selamat bernilai 0."
   ]
  },
  {
   "cell_type": "markdown",
   "id": "563db7b9",
   "metadata": {
    "papermill": {
     "duration": 0.025749,
     "end_time": "2022-06-27T03:25:38.312186",
     "exception": false,
     "start_time": "2022-06-27T03:25:38.286437",
     "status": "completed"
    },
    "tags": []
   },
   "source": [
    "## Cek Apakah Target pada Train Data termasuk _Imbalance_"
   ]
  },
  {
   "cell_type": "code",
   "execution_count": 14,
   "id": "89cb6130",
   "metadata": {
    "execution": {
     "iopub.execute_input": "2022-06-27T03:25:38.366863Z",
     "iopub.status.busy": "2022-06-27T03:25:38.366482Z",
     "iopub.status.idle": "2022-06-27T03:25:38.373704Z",
     "shell.execute_reply": "2022-06-27T03:25:38.372995Z"
    },
    "papermill": {
     "duration": 0.037067,
     "end_time": "2022-06-27T03:25:38.375770",
     "exception": false,
     "start_time": "2022-06-27T03:25:38.338703",
     "status": "completed"
    },
    "tags": []
   },
   "outputs": [
    {
     "data": {
      "text/plain": [
       "0    549\n",
       "1    342\n",
       "Name: Survived, dtype: int64"
      ]
     },
     "execution_count": 14,
     "metadata": {},
     "output_type": "execute_result"
    }
   ],
   "source": [
    "raw_train.Survived.value_counts()"
   ]
  },
  {
   "cell_type": "markdown",
   "id": "78806ebc",
   "metadata": {
    "papermill": {
     "duration": 0.027183,
     "end_time": "2022-06-27T03:25:38.429860",
     "exception": false,
     "start_time": "2022-06-27T03:25:38.402677",
     "status": "completed"
    },
    "tags": []
   },
   "source": [
    "Jumlah yang selamat (1) dan tidak selamat (0) relatif tidak jauh berbeda, sehingga data tersebut bukan termasuk _imbalance data_."
   ]
  },
  {
   "cell_type": "markdown",
   "id": "e369ea4a",
   "metadata": {
    "papermill": {
     "duration": 0.026826,
     "end_time": "2022-06-27T03:25:38.483541",
     "exception": false,
     "start_time": "2022-06-27T03:25:38.456715",
     "status": "completed"
    },
    "tags": []
   },
   "source": [
    "## Hapus kolom yang tidak revelevan\n",
    "Kolom `Cabin` dan `Ticket` memiliki banyak data yang unik, sehingga kedua kolom tersebut tidak memberikan berbedaan signifikan pada hasil prediksi. Untuk kolom `PassengerId` akan digunkan dalam dalam _submission_. Sedangkan pada `Name` terdapat gelar seperti Mr., Mrs. dsb. Gelar tersebut mungkin akan berguna dalam pemodelan."
   ]
  },
  {
   "cell_type": "code",
   "execution_count": 15,
   "id": "56c00846",
   "metadata": {
    "execution": {
     "iopub.execute_input": "2022-06-27T03:25:38.538897Z",
     "iopub.status.busy": "2022-06-27T03:25:38.538608Z",
     "iopub.status.idle": "2022-06-27T03:25:38.544016Z",
     "shell.execute_reply": "2022-06-27T03:25:38.543348Z"
    },
    "papermill": {
     "duration": 0.035353,
     "end_time": "2022-06-27T03:25:38.545867",
     "exception": false,
     "start_time": "2022-06-27T03:25:38.510514",
     "status": "completed"
    },
    "tags": []
   },
   "outputs": [],
   "source": [
    "raw_train.drop(['Cabin', 'Ticket'], axis=1, inplace=True)\n",
    "raw_test.drop(['Cabin', 'Ticket'], axis=1, inplace=True)"
   ]
  },
  {
   "cell_type": "markdown",
   "id": "5d0e0a48",
   "metadata": {
    "papermill": {
     "duration": 0.026548,
     "end_time": "2022-06-27T03:25:38.599639",
     "exception": false,
     "start_time": "2022-06-27T03:25:38.573091",
     "status": "completed"
    },
    "tags": []
   },
   "source": [
    "## Korelasi Antar Numerikal Kolom"
   ]
  },
  {
   "cell_type": "code",
   "execution_count": 16,
   "id": "acb00235",
   "metadata": {
    "execution": {
     "iopub.execute_input": "2022-06-27T03:25:38.654588Z",
     "iopub.status.busy": "2022-06-27T03:25:38.654315Z",
     "iopub.status.idle": "2022-06-27T03:25:38.990603Z",
     "shell.execute_reply": "2022-06-27T03:25:38.989243Z"
    },
    "papermill": {
     "duration": 0.366708,
     "end_time": "2022-06-27T03:25:38.992868",
     "exception": false,
     "start_time": "2022-06-27T03:25:38.626160",
     "status": "completed"
    },
    "tags": []
   },
   "outputs": [
    {
     "data": {
      "image/png": "[encoded data removed]",
      "text/plain": [
       "<Figure size 720x1080 with 2 Axes>"
      ]
     },
     "metadata": {
      "needs_background": "light"
     },
     "output_type": "display_data"
    }
   ],
   "source": [
    "plt.subplots(figsize=(10, 15))\n",
    "data=raw_train.corr()\n",
    "mask = np.triu(np.ones_like(data, dtype=bool))\n",
    "sns.heatmap(data, \n",
    "            mask=mask, \n",
    "            vmax=1, \n",
    "            center=0, \n",
    "            annot = True,\n",
    "            square=True, \n",
    "            linewidths=.5,\n",
    "            cbar_kws={\"shrink\": .5})\n",
    "plt.show()"
   ]
  },
  {
   "cell_type": "markdown",
   "id": "5bff90d1",
   "metadata": {
    "papermill": {
     "duration": 0.027097,
     "end_time": "2022-06-27T03:25:39.047118",
     "exception": false,
     "start_time": "2022-06-27T03:25:39.020021",
     "status": "completed"
    },
    "tags": []
   },
   "source": [
    "# Data Cleaning\n"
   ]
  },
  {
   "cell_type": "code",
   "execution_count": 17,
   "id": "7ddd31f1",
   "metadata": {
    "execution": {
     "iopub.execute_input": "2022-06-27T03:25:39.103359Z",
     "iopub.status.busy": "2022-06-27T03:25:39.102987Z",
     "iopub.status.idle": "2022-06-27T03:25:39.111289Z",
     "shell.execute_reply": "2022-06-27T03:25:39.110484Z"
    },
    "papermill": {
     "duration": 0.039321,
     "end_time": "2022-06-27T03:25:39.113738",
     "exception": false,
     "start_time": "2022-06-27T03:25:39.074417",
     "status": "completed"
    },
    "tags": []
   },
   "outputs": [],
   "source": [
    "# train & test dijadikan satu\n",
    "all_data = pd.concat([raw_train, raw_test])"
   ]
  },
  {
   "cell_type": "markdown",
   "id": "a68d782f",
   "metadata": {
    "papermill": {
     "duration": 0.026824,
     "end_time": "2022-06-27T03:25:39.167904",
     "exception": false,
     "start_time": "2022-06-27T03:25:39.141080",
     "status": "completed"
    },
    "tags": []
   },
   "source": [
    "## Menangani _Missing Values_"
   ]
  },
  {
   "cell_type": "code",
   "execution_count": 18,
   "id": "fc880c38",
   "metadata": {
    "execution": {
     "iopub.execute_input": "2022-06-27T03:25:39.224926Z",
     "iopub.status.busy": "2022-06-27T03:25:39.224291Z",
     "iopub.status.idle": "2022-06-27T03:25:39.234076Z",
     "shell.execute_reply": "2022-06-27T03:25:39.233337Z"
    },
    "papermill": {
     "duration": 0.040933,
     "end_time": "2022-06-27T03:25:39.236200",
     "exception": false,
     "start_time": "2022-06-27T03:25:39.195267",
     "status": "completed"
    },
    "tags": []
   },
   "outputs": [
    {
     "data": {
      "text/plain": [
       "PassengerId      0\n",
       "Survived       418\n",
       "Pclass           0\n",
       "Name             0\n",
       "Sex              0\n",
       "Age            263\n",
       "SibSp            0\n",
       "Parch            0\n",
       "Fare             1\n",
       "Embarked         2\n",
       "dtype: int64"
      ]
     },
     "execution_count": 18,
     "metadata": {},
     "output_type": "execute_result"
    }
   ],
   "source": [
    "all_data.isna().sum()"
   ]
  },
  {
   "cell_type": "markdown",
   "id": "dde0185b",
   "metadata": {
    "papermill": {
     "duration": 0.02694,
     "end_time": "2022-06-27T03:25:39.290951",
     "exception": false,
     "start_time": "2022-06-27T03:25:39.264011",
     "status": "completed"
    },
    "tags": []
   },
   "source": [
    "### Feature Age\n",
    "Berdasarkan _heatmap_ korelasi antar numerikal kolom, fitur `Age` terlihat memiliki korelasi dengan `Pclass`,`SibSp`, dan `Parch`. Fitur `Age` memiliki korelasi negatif kuat dengan `Pclass` jika dibandingkan fitur `SibSp` dan `Parch`. Oleh karena itu, dalam mengisi missing data pada kolom `Age` akan memperhatikan `Pclass`-nya. Untuk kategorikal kolomnya lebih masuk akal `Age` juga berhubungan dengan `Sex`."
   ]
  },
  {
   "cell_type": "code",
   "execution_count": 19,
   "id": "9059eda2",
   "metadata": {
    "execution": {
     "iopub.execute_input": "2022-06-27T03:25:39.338560Z",
     "iopub.status.busy": "2022-06-27T03:25:39.337152Z",
     "iopub.status.idle": "2022-06-27T03:25:39.350958Z",
     "shell.execute_reply": "2022-06-27T03:25:39.349867Z"
    },
    "papermill": {
     "duration": 0.033956,
     "end_time": "2022-06-27T03:25:39.352617",
     "exception": false,
     "start_time": "2022-06-27T03:25:39.318661",
     "status": "completed"
    },
    "tags": []
   },
   "outputs": [
    {
     "data": {
      "text/plain": [
       "Pclass  Sex   \n",
       "1       female    36.0\n",
       "        male      42.0\n",
       "2       female    28.0\n",
       "        male      29.5\n",
       "3       female    22.0\n",
       "        male      25.0\n",
       "Name: Age, dtype: float64"
      ]
     },
     "execution_count": 19,
     "metadata": {},
     "output_type": "execute_result"
    }
   ],
   "source": [
    "all_data.groupby(['Pclass', 'Sex'])['Age'].median()"
   ]
  },
  {
   "cell_type": "code",
   "execution_count": 20,
   "id": "859b399b",
   "metadata": {
    "execution": {
     "iopub.execute_input": "2022-06-27T03:25:39.387676Z",
     "iopub.status.busy": "2022-06-27T03:25:39.387315Z",
     "iopub.status.idle": "2022-06-27T03:25:39.399788Z",
     "shell.execute_reply": "2022-06-27T03:25:39.398969Z"
    },
    "papermill": {
     "duration": 0.032457,
     "end_time": "2022-06-27T03:25:39.401710",
     "exception": false,
     "start_time": "2022-06-27T03:25:39.369253",
     "status": "completed"
    },
    "tags": []
   },
   "outputs": [],
   "source": [
    "all_data.Age = all_data.groupby(['Pclass', 'Sex'])['Age'].transform(lambda x: x.fillna(x.median()))"
   ]
  },
  {
   "cell_type": "markdown",
   "id": "95e18749",
   "metadata": {
    "papermill": {
     "duration": 0.017128,
     "end_time": "2022-06-27T03:25:39.436178",
     "exception": false,
     "start_time": "2022-06-27T03:25:39.419050",
     "status": "completed"
    },
    "tags": []
   },
   "source": [
    "### Feature Fare\n",
    "Berdasarkan _heatmap_ korelasi antar numerikal kolom, fitur `Fare` memiliki korelasi negatif kuat dengan `Pclass`. Untuk kategorikal kolomnya juga akan memperhitungkan `Sex`."
   ]
  },
  {
   "cell_type": "code",
   "execution_count": 21,
   "id": "f4080216",
   "metadata": {
    "execution": {
     "iopub.execute_input": "2022-06-27T03:25:39.471523Z",
     "iopub.status.busy": "2022-06-27T03:25:39.471139Z",
     "iopub.status.idle": "2022-06-27T03:25:39.481283Z",
     "shell.execute_reply": "2022-06-27T03:25:39.480318Z"
    },
    "papermill": {
     "duration": 0.030171,
     "end_time": "2022-06-27T03:25:39.483239",
     "exception": false,
     "start_time": "2022-06-27T03:25:39.453068",
     "status": "completed"
    },
    "tags": []
   },
   "outputs": [
    {
     "data": {
      "text/plain": [
       "Pclass  Sex   \n",
       "1       female    80.92915\n",
       "        male      49.50420\n",
       "2       female    23.00000\n",
       "        male      13.00000\n",
       "3       female    10.48960\n",
       "        male       7.89580\n",
       "Name: Fare, dtype: float64"
      ]
     },
     "execution_count": 21,
     "metadata": {},
     "output_type": "execute_result"
    }
   ],
   "source": [
    "all_data.groupby(['Pclass', 'Sex'])['Fare'].median()"
   ]
  },
  {
   "cell_type": "code",
   "execution_count": 22,
   "id": "cbac8021",
   "metadata": {
    "execution": {
     "iopub.execute_input": "2022-06-27T03:25:39.519057Z",
     "iopub.status.busy": "2022-06-27T03:25:39.518699Z",
     "iopub.status.idle": "2022-06-27T03:25:39.530190Z",
     "shell.execute_reply": "2022-06-27T03:25:39.529449Z"
    },
    "papermill": {
     "duration": 0.032236,
     "end_time": "2022-06-27T03:25:39.532585",
     "exception": false,
     "start_time": "2022-06-27T03:25:39.500349",
     "status": "completed"
    },
    "tags": []
   },
   "outputs": [],
   "source": [
    "all_data.Fare = all_data.groupby(['Pclass', 'Sex'])['Fare'].transform(lambda x: x.fillna(x.median()))"
   ]
  },
  {
   "cell_type": "markdown",
   "id": "9e562ec2",
   "metadata": {
    "papermill": {
     "duration": 0.027354,
     "end_time": "2022-06-27T03:25:39.588437",
     "exception": false,
     "start_time": "2022-06-27T03:25:39.561083",
     "status": "completed"
    },
    "tags": []
   },
   "source": [
    "### Feature Embarked\n",
    "Embarked adalah categorical feature. dari dataframe, feature Embarked didominasi oleh S. oleh karena itu, missing value pada feature Embarked akan diisi oleh modus pada faeture tersebut, yaitu S."
   ]
  },
  {
   "cell_type": "code",
   "execution_count": 23,
   "id": "61a4928e",
   "metadata": {
    "execution": {
     "iopub.execute_input": "2022-06-27T03:25:39.645779Z",
     "iopub.status.busy": "2022-06-27T03:25:39.645083Z",
     "iopub.status.idle": "2022-06-27T03:25:39.652774Z",
     "shell.execute_reply": "2022-06-27T03:25:39.651737Z"
    },
    "papermill": {
     "duration": 0.038655,
     "end_time": "2022-06-27T03:25:39.654780",
     "exception": false,
     "start_time": "2022-06-27T03:25:39.616125",
     "status": "completed"
    },
    "tags": []
   },
   "outputs": [
    {
     "data": {
      "text/plain": [
       "S    914\n",
       "C    270\n",
       "Q    123\n",
       "Name: Embarked, dtype: int64"
      ]
     },
     "execution_count": 23,
     "metadata": {},
     "output_type": "execute_result"
    }
   ],
   "source": [
    "all_data.Embarked.value_counts()"
   ]
  },
  {
   "cell_type": "code",
   "execution_count": 24,
   "id": "b6540506",
   "metadata": {
    "execution": {
     "iopub.execute_input": "2022-06-27T03:25:39.712139Z",
     "iopub.status.busy": "2022-06-27T03:25:39.711772Z",
     "iopub.status.idle": "2022-06-27T03:25:39.716921Z",
     "shell.execute_reply": "2022-06-27T03:25:39.716230Z"
    },
    "papermill": {
     "duration": 0.03601,
     "end_time": "2022-06-27T03:25:39.718716",
     "exception": false,
     "start_time": "2022-06-27T03:25:39.682706",
     "status": "completed"
    },
    "tags": []
   },
   "outputs": [],
   "source": [
    "all_data.Embarked.fillna('S', inplace=True)"
   ]
  },
  {
   "cell_type": "code",
   "execution_count": 25,
   "id": "87f54ec4",
   "metadata": {
    "execution": {
     "iopub.execute_input": "2022-06-27T03:25:39.776526Z",
     "iopub.status.busy": "2022-06-27T03:25:39.775972Z",
     "iopub.status.idle": "2022-06-27T03:25:39.786965Z",
     "shell.execute_reply": "2022-06-27T03:25:39.785724Z"
    },
    "papermill": {
     "duration": 0.042129,
     "end_time": "2022-06-27T03:25:39.788968",
     "exception": false,
     "start_time": "2022-06-27T03:25:39.746839",
     "status": "completed"
    },
    "tags": []
   },
   "outputs": [
    {
     "data": {
      "text/plain": [
       "PassengerId      0\n",
       "Survived       418\n",
       "Pclass           0\n",
       "Name             0\n",
       "Sex              0\n",
       "Age              0\n",
       "SibSp            0\n",
       "Parch            0\n",
       "Fare             0\n",
       "Embarked         0\n",
       "dtype: int64"
      ]
     },
     "execution_count": 25,
     "metadata": {},
     "output_type": "execute_result"
    }
   ],
   "source": [
    "all_data.isna().sum()"
   ]
  },
  {
   "cell_type": "markdown",
   "id": "49a50284",
   "metadata": {
    "papermill": {
     "duration": 0.027322,
     "end_time": "2022-06-27T03:25:39.844200",
     "exception": false,
     "start_time": "2022-06-27T03:25:39.816878",
     "status": "completed"
    },
    "tags": []
   },
   "source": [
    "# _Data Preprocessing_"
   ]
  },
  {
   "cell_type": "markdown",
   "id": "4de89cc3",
   "metadata": {
    "papermill": {
     "duration": 0.027269,
     "end_time": "2022-06-27T03:25:39.899312",
     "exception": false,
     "start_time": "2022-06-27T03:25:39.872043",
     "status": "completed"
    },
    "tags": []
   },
   "source": [
    "## Rekayasa Fitur"
   ]
  },
  {
   "cell_type": "markdown",
   "id": "eedaef9e",
   "metadata": {
    "papermill": {
     "duration": 0.016919,
     "end_time": "2022-06-27T03:25:39.933457",
     "exception": false,
     "start_time": "2022-06-27T03:25:39.916538",
     "status": "completed"
    },
    "tags": []
   },
   "source": [
    "### Fitur `Family_size`\n",
    "fitur yang mengindikasi jumlah keluarga setiap penumpang yang berada dalam kapal.\n",
    "\n",
    "formula: ```Family_size = SibSp + Parch + 1```"
   ]
  },
  {
   "cell_type": "code",
   "execution_count": 26,
   "id": "05b166bb",
   "metadata": {
    "execution": {
     "iopub.execute_input": "2022-06-27T03:25:39.969823Z",
     "iopub.status.busy": "2022-06-27T03:25:39.969475Z",
     "iopub.status.idle": "2022-06-27T03:25:39.976168Z",
     "shell.execute_reply": "2022-06-27T03:25:39.975154Z"
    },
    "papermill": {
     "duration": 0.027647,
     "end_time": "2022-06-27T03:25:39.978262",
     "exception": false,
     "start_time": "2022-06-27T03:25:39.950615",
     "status": "completed"
    },
    "tags": []
   },
   "outputs": [],
   "source": [
    "all_data['Family_size'] = all_data.SibSp + all_data.Parch + 1"
   ]
  },
  {
   "cell_type": "markdown",
   "id": "48f72d08",
   "metadata": {
    "papermill": {
     "duration": 0.027373,
     "end_time": "2022-06-27T03:25:40.033381",
     "exception": false,
     "start_time": "2022-06-27T03:25:40.006008",
     "status": "completed"
    },
    "tags": []
   },
   "source": [
    "### Fitur `is_Alone`"
   ]
  },
  {
   "cell_type": "code",
   "execution_count": 27,
   "id": "2b680d9f",
   "metadata": {
    "execution": {
     "iopub.execute_input": "2022-06-27T03:25:40.091661Z",
     "iopub.status.busy": "2022-06-27T03:25:40.091189Z",
     "iopub.status.idle": "2022-06-27T03:25:40.096901Z",
     "shell.execute_reply": "2022-06-27T03:25:40.096304Z"
    },
    "papermill": {
     "duration": 0.037353,
     "end_time": "2022-06-27T03:25:40.098779",
     "exception": false,
     "start_time": "2022-06-27T03:25:40.061426",
     "status": "completed"
    },
    "tags": []
   },
   "outputs": [],
   "source": [
    "all_data['is_Alone'] = 0\n",
    "all_data.loc[all_data['Family_size']==1, 'is_Alone'] = 1"
   ]
  },
  {
   "cell_type": "markdown",
   "id": "c1e6ab66",
   "metadata": {
    "papermill": {
     "duration": 0.027378,
     "end_time": "2022-06-27T03:25:40.154175",
     "exception": false,
     "start_time": "2022-06-27T03:25:40.126797",
     "status": "completed"
    },
    "tags": []
   },
   "source": [
    "### Fitur `is_Female`"
   ]
  },
  {
   "cell_type": "code",
   "execution_count": 28,
   "id": "02dfd719",
   "metadata": {
    "execution": {
     "iopub.execute_input": "2022-06-27T03:25:40.211469Z",
     "iopub.status.busy": "2022-06-27T03:25:40.211093Z",
     "iopub.status.idle": "2022-06-27T03:25:40.218640Z",
     "shell.execute_reply": "2022-06-27T03:25:40.217804Z"
    },
    "papermill": {
     "duration": 0.03892,
     "end_time": "2022-06-27T03:25:40.220731",
     "exception": false,
     "start_time": "2022-06-27T03:25:40.181811",
     "status": "completed"
    },
    "tags": []
   },
   "outputs": [],
   "source": [
    "all_data.loc[all_data.Sex == 'female', 'is_female'] = 1\n",
    "all_data.loc[all_data.Sex == 'male', 'is_female'] = 0"
   ]
  },
  {
   "cell_type": "markdown",
   "id": "675fb992",
   "metadata": {
    "papermill": {
     "duration": 0.027553,
     "end_time": "2022-06-27T03:25:40.276195",
     "exception": false,
     "start_time": "2022-06-27T03:25:40.248642",
     "status": "completed"
    },
    "tags": []
   },
   "source": [
    "### Fitur `Title`"
   ]
  },
  {
   "cell_type": "code",
   "execution_count": 29,
   "id": "50e2110c",
   "metadata": {
    "execution": {
     "iopub.execute_input": "2022-06-27T03:25:40.333632Z",
     "iopub.status.busy": "2022-06-27T03:25:40.332984Z",
     "iopub.status.idle": "2022-06-27T03:25:40.349897Z",
     "shell.execute_reply": "2022-06-27T03:25:40.348644Z"
    },
    "papermill": {
     "duration": 0.048295,
     "end_time": "2022-06-27T03:25:40.352035",
     "exception": false,
     "start_time": "2022-06-27T03:25:40.303740",
     "status": "completed"
    },
    "tags": []
   },
   "outputs": [
    {
     "data": {
      "text/plain": [
       "array(['Mr', 'Mrs', 'Miss', 'Master', 'Don', 'Rev', 'Dr', 'Mme', 'Ms',\n",
       "       'Major', 'Lady', 'Sir', 'Mlle', 'Col', 'Capt', 'the Countess',\n",
       "       'Jonkheer', 'Dona'], dtype=object)"
      ]
     },
     "execution_count": 29,
     "metadata": {},
     "output_type": "execute_result"
    }
   ],
   "source": [
    "all_data['Title'] = all_data['Name'].str.split(', ', expand=True)[1].str.split('.', expand=True)[0]\n",
    "all_data['Title'].unique()"
   ]
  },
  {
   "cell_type": "code",
   "execution_count": 30,
   "id": "62796dab",
   "metadata": {
    "execution": {
     "iopub.execute_input": "2022-06-27T03:25:40.411456Z",
     "iopub.status.busy": "2022-06-27T03:25:40.411084Z",
     "iopub.status.idle": "2022-06-27T03:25:40.424087Z",
     "shell.execute_reply": "2022-06-27T03:25:40.423069Z"
    },
    "papermill": {
     "duration": 0.04505,
     "end_time": "2022-06-27T03:25:40.426078",
     "exception": false,
     "start_time": "2022-06-27T03:25:40.381028",
     "status": "completed"
    },
    "tags": []
   },
   "outputs": [],
   "source": [
    "all_data['Title'] = all_data['Title'].replace(['Miss', 'Mrs','Ms', 'Mlle', 'Lady', 'Mme', 'the Countess', 'Dona'], 'Miss/Mrs/Ms')\n",
    "all_data['Title'] = all_data['Title'].replace(['Don', 'Rev', 'Sir', 'Master', 'Jonkheer'], 'Mr')\n",
    "all_data['Title'] = all_data['Title'].replace(['Dr', 'Major', 'Col', 'Capt'], 'Other')"
   ]
  },
  {
   "cell_type": "code",
   "execution_count": 31,
   "id": "53316583",
   "metadata": {
    "execution": {
     "iopub.execute_input": "2022-06-27T03:25:40.485362Z",
     "iopub.status.busy": "2022-06-27T03:25:40.484786Z",
     "iopub.status.idle": "2022-06-27T03:25:40.493312Z",
     "shell.execute_reply": "2022-06-27T03:25:40.492298Z"
    },
    "papermill": {
     "duration": 0.039965,
     "end_time": "2022-06-27T03:25:40.495214",
     "exception": false,
     "start_time": "2022-06-27T03:25:40.455249",
     "status": "completed"
    },
    "tags": []
   },
   "outputs": [
    {
     "data": {
      "text/plain": [
       "array(['Mr', 'Miss/Mrs/Ms', 'Other'], dtype=object)"
      ]
     },
     "execution_count": 31,
     "metadata": {},
     "output_type": "execute_result"
    }
   ],
   "source": [
    "all_data['Title'].unique()"
   ]
  },
  {
   "cell_type": "markdown",
   "id": "9f2b14ec",
   "metadata": {
    "papermill": {
     "duration": 0.017794,
     "end_time": "2022-06-27T03:25:40.530845",
     "exception": false,
     "start_time": "2022-06-27T03:25:40.513051",
     "status": "completed"
    },
    "tags": []
   },
   "source": [
    "## Menghapus Fitur-fitur yang Sudah tidak digunakan"
   ]
  },
  {
   "cell_type": "code",
   "execution_count": 32,
   "id": "4e8564a2",
   "metadata": {
    "execution": {
     "iopub.execute_input": "2022-06-27T03:25:40.569122Z",
     "iopub.status.busy": "2022-06-27T03:25:40.568757Z",
     "iopub.status.idle": "2022-06-27T03:25:40.585043Z",
     "shell.execute_reply": "2022-06-27T03:25:40.583775Z"
    },
    "papermill": {
     "duration": 0.03813,
     "end_time": "2022-06-27T03:25:40.587583",
     "exception": false,
     "start_time": "2022-06-27T03:25:40.549453",
     "status": "completed"
    },
    "tags": []
   },
   "outputs": [
    {
     "name": "stdout",
     "output_type": "stream",
     "text": [
      "<class 'pandas.core.frame.DataFrame'>\n",
      "Int64Index: 1309 entries, 0 to 417\n",
      "Data columns (total 10 columns):\n",
      " #   Column       Non-Null Count  Dtype  \n",
      "---  ------       --------------  -----  \n",
      " 0   PassengerId  1309 non-null   int64  \n",
      " 1   Survived     891 non-null    float64\n",
      " 2   Pclass       1309 non-null   int64  \n",
      " 3   Age          1309 non-null   float64\n",
      " 4   Fare         1309 non-null   float64\n",
      " 5   Embarked     1309 non-null   object \n",
      " 6   Family_size  1309 non-null   int64  \n",
      " 7   is_Alone     1309 non-null   int64  \n",
      " 8   is_female    1309 non-null   float64\n",
      " 9   Title        1309 non-null   object \n",
      "dtypes: float64(4), int64(4), object(2)\n",
      "memory usage: 112.5+ KB\n"
     ]
    }
   ],
   "source": [
    "all_data.drop(['Name', 'Sex', 'Parch', 'SibSp'], axis=1, inplace=True)\n",
    "all_data.info()"
   ]
  },
  {
   "cell_type": "markdown",
   "id": "9c0e07b5",
   "metadata": {
    "papermill": {
     "duration": 0.02842,
     "end_time": "2022-06-27T03:25:40.645999",
     "exception": false,
     "start_time": "2022-06-27T03:25:40.617579",
     "status": "completed"
    },
    "tags": []
   },
   "source": [
    "## Menangani Fitur Non-Numerik"
   ]
  },
  {
   "cell_type": "code",
   "execution_count": 33,
   "id": "f12be338",
   "metadata": {
    "execution": {
     "iopub.execute_input": "2022-06-27T03:25:40.704589Z",
     "iopub.status.busy": "2022-06-27T03:25:40.704000Z",
     "iopub.status.idle": "2022-06-27T03:25:40.714080Z",
     "shell.execute_reply": "2022-06-27T03:25:40.712779Z"
    },
    "papermill": {
     "duration": 0.041631,
     "end_time": "2022-06-27T03:25:40.716216",
     "exception": false,
     "start_time": "2022-06-27T03:25:40.674585",
     "status": "completed"
    },
    "tags": []
   },
   "outputs": [],
   "source": [
    "all_data['Title'] = all_data['Title'].replace(['Miss/Mrs/Ms'], 2)\n",
    "all_data['Title'] = all_data['Title'].replace(['Other'], 1)\n",
    "all_data['Title'] = all_data['Title'].replace(['Mr'], 0)"
   ]
  },
  {
   "cell_type": "code",
   "execution_count": 34,
   "id": "b34050bf",
   "metadata": {
    "execution": {
     "iopub.execute_input": "2022-06-27T03:25:40.789990Z",
     "iopub.status.busy": "2022-06-27T03:25:40.789636Z",
     "iopub.status.idle": "2022-06-27T03:25:40.799756Z",
     "shell.execute_reply": "2022-06-27T03:25:40.798510Z"
    },
    "papermill": {
     "duration": 0.057473,
     "end_time": "2022-06-27T03:25:40.802364",
     "exception": false,
     "start_time": "2022-06-27T03:25:40.744891",
     "status": "completed"
    },
    "tags": []
   },
   "outputs": [],
   "source": [
    "all_data = pd.get_dummies(all_data)"
   ]
  },
  {
   "cell_type": "code",
   "execution_count": 35,
   "id": "10e6ef05",
   "metadata": {
    "execution": {
     "iopub.execute_input": "2022-06-27T03:25:40.861763Z",
     "iopub.status.busy": "2022-06-27T03:25:40.861406Z",
     "iopub.status.idle": "2022-06-27T03:25:40.874792Z",
     "shell.execute_reply": "2022-06-27T03:25:40.873312Z"
    },
    "papermill": {
     "duration": 0.046981,
     "end_time": "2022-06-27T03:25:40.877897",
     "exception": false,
     "start_time": "2022-06-27T03:25:40.830916",
     "status": "completed"
    },
    "tags": []
   },
   "outputs": [
    {
     "name": "stdout",
     "output_type": "stream",
     "text": [
      "<class 'pandas.core.frame.DataFrame'>\n",
      "Int64Index: 1309 entries, 0 to 417\n",
      "Data columns (total 12 columns):\n",
      " #   Column       Non-Null Count  Dtype  \n",
      "---  ------       --------------  -----  \n",
      " 0   PassengerId  1309 non-null   int64  \n",
      " 1   Survived     891 non-null    float64\n",
      " 2   Pclass       1309 non-null   int64  \n",
      " 3   Age          1309 non-null   float64\n",
      " 4   Fare         1309 non-null   float64\n",
      " 5   Family_size  1309 non-null   int64  \n",
      " 6   is_Alone     1309 non-null   int64  \n",
      " 7   is_female    1309 non-null   float64\n",
      " 8   Title        1309 non-null   int64  \n",
      " 9   Embarked_C   1309 non-null   uint8  \n",
      " 10  Embarked_Q   1309 non-null   uint8  \n",
      " 11  Embarked_S   1309 non-null   uint8  \n",
      "dtypes: float64(4), int64(5), uint8(3)\n",
      "memory usage: 106.1 KB\n"
     ]
    }
   ],
   "source": [
    "all_data.info()"
   ]
  },
  {
   "cell_type": "markdown",
   "id": "558b44b9",
   "metadata": {
    "papermill": {
     "duration": 0.028092,
     "end_time": "2022-06-27T03:25:40.934736",
     "exception": false,
     "start_time": "2022-06-27T03:25:40.906644",
     "status": "completed"
    },
    "tags": []
   },
   "source": [
    "## Memisahkan Train & Test"
   ]
  },
  {
   "cell_type": "code",
   "execution_count": 36,
   "id": "df1ca873",
   "metadata": {
    "execution": {
     "iopub.execute_input": "2022-06-27T03:25:40.993202Z",
     "iopub.status.busy": "2022-06-27T03:25:40.992898Z",
     "iopub.status.idle": "2022-06-27T03:25:41.009847Z",
     "shell.execute_reply": "2022-06-27T03:25:41.008715Z"
    },
    "papermill": {
     "duration": 0.049026,
     "end_time": "2022-06-27T03:25:41.012401",
     "exception": false,
     "start_time": "2022-06-27T03:25:40.963375",
     "status": "completed"
    },
    "tags": []
   },
   "outputs": [
    {
     "data": {
      "text/html": [
       "<div>\n",
       "<style scoped>\n",
       "    .dataframe tbody tr th:only-of-type {\n",
       "        vertical-align: middle;\n",
       "    }\n",
       "\n",
       "    .dataframe tbody tr th {\n",
       "        vertical-align: top;\n",
       "    }\n",
       "\n",
       "    .dataframe thead th {\n",
       "        text-align: right;\n",
       "    }\n",
       "</style>\n",
       "<table border=\"1\" class=\"dataframe\">\n",
       "  <thead>\n",
       "    <tr style=\"text-align: right;\">\n",
       "      <th></th>\n",
       "      <th>Pclass</th>\n",
       "      <th>Age</th>\n",
       "      <th>Fare</th>\n",
       "      <th>Family_size</th>\n",
       "      <th>is_Alone</th>\n",
       "      <th>is_female</th>\n",
       "      <th>Title</th>\n",
       "      <th>Embarked_C</th>\n",
       "      <th>Embarked_Q</th>\n",
       "      <th>Embarked_S</th>\n",
       "    </tr>\n",
       "  </thead>\n",
       "  <tbody>\n",
       "    <tr>\n",
       "      <th>886</th>\n",
       "      <td>2</td>\n",
       "      <td>27.0</td>\n",
       "      <td>13.00</td>\n",
       "      <td>1</td>\n",
       "      <td>1</td>\n",
       "      <td>0.0</td>\n",
       "      <td>0</td>\n",
       "      <td>0</td>\n",
       "      <td>0</td>\n",
       "      <td>1</td>\n",
       "    </tr>\n",
       "    <tr>\n",
       "      <th>887</th>\n",
       "      <td>1</td>\n",
       "      <td>19.0</td>\n",
       "      <td>30.00</td>\n",
       "      <td>1</td>\n",
       "      <td>1</td>\n",
       "      <td>1.0</td>\n",
       "      <td>2</td>\n",
       "      <td>0</td>\n",
       "      <td>0</td>\n",
       "      <td>1</td>\n",
       "    </tr>\n",
       "    <tr>\n",
       "      <th>888</th>\n",
       "      <td>3</td>\n",
       "      <td>22.0</td>\n",
       "      <td>23.45</td>\n",
       "      <td>4</td>\n",
       "      <td>0</td>\n",
       "      <td>1.0</td>\n",
       "      <td>2</td>\n",
       "      <td>0</td>\n",
       "      <td>0</td>\n",
       "      <td>1</td>\n",
       "    </tr>\n",
       "    <tr>\n",
       "      <th>889</th>\n",
       "      <td>1</td>\n",
       "      <td>26.0</td>\n",
       "      <td>30.00</td>\n",
       "      <td>1</td>\n",
       "      <td>1</td>\n",
       "      <td>0.0</td>\n",
       "      <td>0</td>\n",
       "      <td>1</td>\n",
       "      <td>0</td>\n",
       "      <td>0</td>\n",
       "    </tr>\n",
       "    <tr>\n",
       "      <th>890</th>\n",
       "      <td>3</td>\n",
       "      <td>32.0</td>\n",
       "      <td>7.75</td>\n",
       "      <td>1</td>\n",
       "      <td>1</td>\n",
       "      <td>0.0</td>\n",
       "      <td>0</td>\n",
       "      <td>0</td>\n",
       "      <td>1</td>\n",
       "      <td>0</td>\n",
       "    </tr>\n",
       "  </tbody>\n",
       "</table>\n",
       "</div>"
      ],
      "text/plain": [
       "     Pclass   Age   Fare  Family_size  is_Alone  is_female  Title  Embarked_C  \\\n",
       "886       2  27.0  13.00            1         1        0.0      0           0   \n",
       "887       1  19.0  30.00            1         1        1.0      2           0   \n",
       "888       3  22.0  23.45            4         0        1.0      2           0   \n",
       "889       1  26.0  30.00            1         1        0.0      0           1   \n",
       "890       3  32.0   7.75            1         1        0.0      0           0   \n",
       "\n",
       "     Embarked_Q  Embarked_S  \n",
       "886           0           1  \n",
       "887           0           1  \n",
       "888           0           1  \n",
       "889           0           0  \n",
       "890           1           0  "
      ]
     },
     "execution_count": 36,
     "metadata": {},
     "output_type": "execute_result"
    }
   ],
   "source": [
    "X_train = all_data[:891]\n",
    "y_train = X_train.Survived.astype('int')\n",
    "X_train = X_train.drop(['PassengerId', 'Survived'], axis=1)\n",
    "X_train.tail()"
   ]
  },
  {
   "cell_type": "code",
   "execution_count": 37,
   "id": "357bb8f2",
   "metadata": {
    "execution": {
     "iopub.execute_input": "2022-06-27T03:25:41.072544Z",
     "iopub.status.busy": "2022-06-27T03:25:41.071834Z",
     "iopub.status.idle": "2022-06-27T03:25:41.088875Z",
     "shell.execute_reply": "2022-06-27T03:25:41.087772Z"
    },
    "papermill": {
     "duration": 0.049974,
     "end_time": "2022-06-27T03:25:41.091511",
     "exception": false,
     "start_time": "2022-06-27T03:25:41.041537",
     "status": "completed"
    },
    "tags": []
   },
   "outputs": [
    {
     "data": {
      "text/html": [
       "<div>\n",
       "<style scoped>\n",
       "    .dataframe tbody tr th:only-of-type {\n",
       "        vertical-align: middle;\n",
       "    }\n",
       "\n",
       "    .dataframe tbody tr th {\n",
       "        vertical-align: top;\n",
       "    }\n",
       "\n",
       "    .dataframe thead th {\n",
       "        text-align: right;\n",
       "    }\n",
       "</style>\n",
       "<table border=\"1\" class=\"dataframe\">\n",
       "  <thead>\n",
       "    <tr style=\"text-align: right;\">\n",
       "      <th></th>\n",
       "      <th>Pclass</th>\n",
       "      <th>Age</th>\n",
       "      <th>Fare</th>\n",
       "      <th>Family_size</th>\n",
       "      <th>is_Alone</th>\n",
       "      <th>is_female</th>\n",
       "      <th>Title</th>\n",
       "      <th>Embarked_C</th>\n",
       "      <th>Embarked_Q</th>\n",
       "      <th>Embarked_S</th>\n",
       "    </tr>\n",
       "  </thead>\n",
       "  <tbody>\n",
       "    <tr>\n",
       "      <th>0</th>\n",
       "      <td>3</td>\n",
       "      <td>34.5</td>\n",
       "      <td>7.8292</td>\n",
       "      <td>1</td>\n",
       "      <td>1</td>\n",
       "      <td>0.0</td>\n",
       "      <td>0</td>\n",
       "      <td>0</td>\n",
       "      <td>1</td>\n",
       "      <td>0</td>\n",
       "    </tr>\n",
       "    <tr>\n",
       "      <th>1</th>\n",
       "      <td>3</td>\n",
       "      <td>47.0</td>\n",
       "      <td>7.0000</td>\n",
       "      <td>2</td>\n",
       "      <td>0</td>\n",
       "      <td>1.0</td>\n",
       "      <td>2</td>\n",
       "      <td>0</td>\n",
       "      <td>0</td>\n",
       "      <td>1</td>\n",
       "    </tr>\n",
       "    <tr>\n",
       "      <th>2</th>\n",
       "      <td>2</td>\n",
       "      <td>62.0</td>\n",
       "      <td>9.6875</td>\n",
       "      <td>1</td>\n",
       "      <td>1</td>\n",
       "      <td>0.0</td>\n",
       "      <td>0</td>\n",
       "      <td>0</td>\n",
       "      <td>1</td>\n",
       "      <td>0</td>\n",
       "    </tr>\n",
       "    <tr>\n",
       "      <th>3</th>\n",
       "      <td>3</td>\n",
       "      <td>27.0</td>\n",
       "      <td>8.6625</td>\n",
       "      <td>1</td>\n",
       "      <td>1</td>\n",
       "      <td>0.0</td>\n",
       "      <td>0</td>\n",
       "      <td>0</td>\n",
       "      <td>0</td>\n",
       "      <td>1</td>\n",
       "    </tr>\n",
       "    <tr>\n",
       "      <th>4</th>\n",
       "      <td>3</td>\n",
       "      <td>22.0</td>\n",
       "      <td>12.2875</td>\n",
       "      <td>3</td>\n",
       "      <td>0</td>\n",
       "      <td>1.0</td>\n",
       "      <td>2</td>\n",
       "      <td>0</td>\n",
       "      <td>0</td>\n",
       "      <td>1</td>\n",
       "    </tr>\n",
       "  </tbody>\n",
       "</table>\n",
       "</div>"
      ],
      "text/plain": [
       "   Pclass   Age     Fare  Family_size  is_Alone  is_female  Title  Embarked_C  \\\n",
       "0       3  34.5   7.8292            1         1        0.0      0           0   \n",
       "1       3  47.0   7.0000            2         0        1.0      2           0   \n",
       "2       2  62.0   9.6875            1         1        0.0      0           0   \n",
       "3       3  27.0   8.6625            1         1        0.0      0           0   \n",
       "4       3  22.0  12.2875            3         0        1.0      2           0   \n",
       "\n",
       "   Embarked_Q  Embarked_S  \n",
       "0           1           0  \n",
       "1           0           1  \n",
       "2           1           0  \n",
       "3           0           1  \n",
       "4           0           1  "
      ]
     },
     "execution_count": 37,
     "metadata": {},
     "output_type": "execute_result"
    }
   ],
   "source": [
    "X_test = all_data[891:]\n",
    "passengerID = X_test.PassengerId # Save passengerID untuk submission\n",
    "X_test = X_test.drop(['PassengerId', 'Survived'], axis=1)\n",
    "X_test.head()"
   ]
  },
  {
   "cell_type": "markdown",
   "id": "ae1d4d08",
   "metadata": {
    "papermill": {
     "duration": 0.028917,
     "end_time": "2022-06-27T03:25:41.149907",
     "exception": false,
     "start_time": "2022-06-27T03:25:41.120990",
     "status": "completed"
    },
    "tags": []
   },
   "source": [
    "# Pemodelan\n",
    "Model yang akan digunakan ialah Random Forest, KNN, SVM, Logistic Regression, NaiveBayes, RelevanceVectorMachine"
   ]
  },
  {
   "cell_type": "code",
   "execution_count": 38,
   "id": "bf378ea3",
   "metadata": {
    "execution": {
     "iopub.execute_input": "2022-06-27T03:25:41.211146Z",
     "iopub.status.busy": "2022-06-27T03:25:41.210514Z",
     "iopub.status.idle": "2022-06-27T03:25:41.671973Z",
     "shell.execute_reply": "2022-06-27T03:25:41.670749Z"
    },
    "papermill": {
     "duration": 0.495376,
     "end_time": "2022-06-27T03:25:41.674926",
     "exception": false,
     "start_time": "2022-06-27T03:25:41.179550",
     "status": "completed"
    },
    "tags": []
   },
   "outputs": [],
   "source": [
    "from sklearn.model_selection import GridSearchCV, cross_val_score\n",
    "from sklearn.ensemble import RandomForestClassifier, GradientBoostingClassifier, StackingClassifier\n",
    "from sklearn.linear_model import LogisticRegression\n",
    "from sklearn.neighbors import KNeighborsClassifier\n",
    "from sklearn.preprocessing import StandardScaler, RobustScaler\n",
    "from sklearn.pipeline import make_pipeline\n",
    "from sklearn.metrics import accuracy_score\n",
    "from sklearn.svm import SVC\n",
    "from scipy.stats import mode"
   ]
  },
  {
   "cell_type": "code",
   "execution_count": 39,
   "id": "3994bf9f",
   "metadata": {
    "execution": {
     "iopub.execute_input": "2022-06-27T03:25:41.736999Z",
     "iopub.status.busy": "2022-06-27T03:25:41.736631Z",
     "iopub.status.idle": "2022-06-27T03:25:41.743016Z",
     "shell.execute_reply": "2022-06-27T03:25:41.742258Z"
    },
    "papermill": {
     "duration": 0.040273,
     "end_time": "2022-06-27T03:25:41.745523",
     "exception": false,
     "start_time": "2022-06-27T03:25:41.705250",
     "status": "completed"
    },
    "tags": []
   },
   "outputs": [],
   "source": [
    "# get a stacking ensemble of models\n",
    "def get_stacking(models, final):\n",
    "    # define the base models\n",
    "    level0 = list()\n",
    "    for name, model in models.items():\n",
    "        level0.append((name, model))\n",
    "    # define meta learner model\n",
    "    level1 = final\n",
    "    # define the stacking ensemble\n",
    "    model = StackingClassifier(estimators=level0, final_estimator=level1, cv=5)\n",
    "    return model"
   ]
  },
  {
   "cell_type": "code",
   "execution_count": 40,
   "id": "2084dcda",
   "metadata": {
    "execution": {
     "iopub.execute_input": "2022-06-27T03:25:41.807211Z",
     "iopub.status.busy": "2022-06-27T03:25:41.806620Z",
     "iopub.status.idle": "2022-06-27T03:25:41.812535Z",
     "shell.execute_reply": "2022-06-27T03:25:41.811414Z"
    },
    "papermill": {
     "duration": 0.03982,
     "end_time": "2022-06-27T03:25:41.815205",
     "exception": false,
     "start_time": "2022-06-27T03:25:41.775385",
     "status": "completed"
    },
    "tags": []
   },
   "outputs": [],
   "source": [
    "def accuracy(model):\n",
    "    acc = cross_val_score(model, X_train, y_train, cv=5, scoring='accuracy')\n",
    "    print(f'accuracy score : {acc}')\n",
    "    print(f'mean accuracy score : {np.mean(acc)} ({np.std(acc)})')"
   ]
  },
  {
   "cell_type": "code",
   "execution_count": 41,
   "id": "c43f9b23",
   "metadata": {
    "execution": {
     "iopub.execute_input": "2022-06-27T03:25:41.876406Z",
     "iopub.status.busy": "2022-06-27T03:25:41.876038Z",
     "iopub.status.idle": "2022-06-27T03:25:41.882640Z",
     "shell.execute_reply": "2022-06-27T03:25:41.881549Z"
    },
    "papermill": {
     "duration": 0.040614,
     "end_time": "2022-06-27T03:25:41.885415",
     "exception": false,
     "start_time": "2022-06-27T03:25:41.844801",
     "status": "completed"
    },
    "tags": []
   },
   "outputs": [],
   "source": [
    "def feature_importances(model):\n",
    "    importances = model.feature_importances_\n",
    "    feature_names = X_train.columns.values\n",
    "    \n",
    "    df_feature_importance = pd.DataFrame(index=range(len(feature_names)), columns=['feature', f'{model} importance'])\n",
    "    df_feature_importance['feature'] = feature_names\n",
    "    df_feature_importance[f'{model} importance'] = importances\n",
    "    df_all_features = df_feature_importance.sort_values(by=f'{model} importance', ascending=False)\n",
    "    \n",
    "    return df_all_features"
   ]
  },
  {
   "cell_type": "markdown",
   "id": "492c68af",
   "metadata": {
    "papermill": {
     "duration": 0.028939,
     "end_time": "2022-06-27T03:25:41.943600",
     "exception": false,
     "start_time": "2022-06-27T03:25:41.914661",
     "status": "completed"
    },
    "tags": []
   },
   "source": [
    "## Random Forest"
   ]
  },
  {
   "cell_type": "code",
   "execution_count": 42,
   "id": "7964d4ef",
   "metadata": {
    "execution": {
     "iopub.execute_input": "2022-06-27T03:25:42.005075Z",
     "iopub.status.busy": "2022-06-27T03:25:42.004179Z",
     "iopub.status.idle": "2022-06-27T03:26:01.354893Z",
     "shell.execute_reply": "2022-06-27T03:26:01.352236Z"
    },
    "papermill": {
     "duration": 19.384746,
     "end_time": "2022-06-27T03:26:01.358040",
     "exception": false,
     "start_time": "2022-06-27T03:25:41.973294",
     "status": "completed"
    },
    "tags": []
   },
   "outputs": [
    {
     "name": "stdout",
     "output_type": "stream",
     "text": [
      "Fitting 5 folds for each of 42 candidates, totalling 210 fits\n",
      "Best parameter = {'min_samples_split': 10, 'n_estimators': 100}\n"
     ]
    }
   ],
   "source": [
    "parameter = {'n_estimators': list(range(50, 225, 25)),\n",
    "             'min_samples_split' : list(range(10,21,2))\n",
    "            }\n",
    "\n",
    "model_rf = GridSearchCV(RandomForestClassifier(random_state=0),\n",
    "                       parameter, n_jobs=-1, verbose=1)\n",
    "model_rf.fit(X_train, y_train)\n",
    "\n",
    "print(f'Best parameter = {model_rf.best_params_}')"
   ]
  },
  {
   "cell_type": "code",
   "execution_count": 43,
   "id": "126aefb4",
   "metadata": {
    "execution": {
     "iopub.execute_input": "2022-06-27T03:26:01.421569Z",
     "iopub.status.busy": "2022-06-27T03:26:01.420989Z",
     "iopub.status.idle": "2022-06-27T03:26:02.513050Z",
     "shell.execute_reply": "2022-06-27T03:26:02.512374Z"
    },
    "papermill": {
     "duration": 1.126709,
     "end_time": "2022-06-27T03:26:02.515079",
     "exception": false,
     "start_time": "2022-06-27T03:26:01.388370",
     "status": "completed"
    },
    "tags": []
   },
   "outputs": [
    {
     "name": "stdout",
     "output_type": "stream",
     "text": [
      "accuracy score : [0.80446927 0.82022472 0.88202247 0.81460674 0.84269663]\n",
      "mean accuracy score : 0.832803967108154 (0.02761361013763097)\n"
     ]
    }
   ],
   "source": [
    "randfore = RandomForestClassifier(\n",
    "    n_estimators = model_rf.best_params_['n_estimators'],\n",
    "    min_samples_split = model_rf.best_params_['min_samples_split'], \n",
    "    random_state = 0)\n",
    "accuracy(randfore)"
   ]
  },
  {
   "cell_type": "code",
   "execution_count": 44,
   "id": "e58e9339",
   "metadata": {
    "execution": {
     "iopub.execute_input": "2022-06-27T03:26:02.576236Z",
     "iopub.status.busy": "2022-06-27T03:26:02.575586Z",
     "iopub.status.idle": "2022-06-27T03:26:02.814656Z",
     "shell.execute_reply": "2022-06-27T03:26:02.813658Z"
    },
    "papermill": {
     "duration": 0.272267,
     "end_time": "2022-06-27T03:26:02.816781",
     "exception": false,
     "start_time": "2022-06-27T03:26:02.544514",
     "status": "completed"
    },
    "tags": []
   },
   "outputs": [
    {
     "data": {
      "text/html": [
       "<div>\n",
       "<style scoped>\n",
       "    .dataframe tbody tr th:only-of-type {\n",
       "        vertical-align: middle;\n",
       "    }\n",
       "\n",
       "    .dataframe tbody tr th {\n",
       "        vertical-align: top;\n",
       "    }\n",
       "\n",
       "    .dataframe thead th {\n",
       "        text-align: right;\n",
       "    }\n",
       "</style>\n",
       "<table border=\"1\" class=\"dataframe\">\n",
       "  <thead>\n",
       "    <tr style=\"text-align: right;\">\n",
       "      <th></th>\n",
       "      <th>feature</th>\n",
       "      <th>RandomForestClassifier(min_samples_split=10, random_state=0) importance</th>\n",
       "    </tr>\n",
       "  </thead>\n",
       "  <tbody>\n",
       "    <tr>\n",
       "      <th>2</th>\n",
       "      <td>Fare</td>\n",
       "      <td>0.202835</td>\n",
       "    </tr>\n",
       "    <tr>\n",
       "      <th>6</th>\n",
       "      <td>Title</td>\n",
       "      <td>0.199305</td>\n",
       "    </tr>\n",
       "    <tr>\n",
       "      <th>5</th>\n",
       "      <td>is_female</td>\n",
       "      <td>0.193052</td>\n",
       "    </tr>\n",
       "    <tr>\n",
       "      <th>1</th>\n",
       "      <td>Age</td>\n",
       "      <td>0.184856</td>\n",
       "    </tr>\n",
       "    <tr>\n",
       "      <th>0</th>\n",
       "      <td>Pclass</td>\n",
       "      <td>0.106106</td>\n",
       "    </tr>\n",
       "    <tr>\n",
       "      <th>3</th>\n",
       "      <td>Family_size</td>\n",
       "      <td>0.065897</td>\n",
       "    </tr>\n",
       "    <tr>\n",
       "      <th>9</th>\n",
       "      <td>Embarked_S</td>\n",
       "      <td>0.014077</td>\n",
       "    </tr>\n",
       "    <tr>\n",
       "      <th>7</th>\n",
       "      <td>Embarked_C</td>\n",
       "      <td>0.013842</td>\n",
       "    </tr>\n",
       "    <tr>\n",
       "      <th>4</th>\n",
       "      <td>is_Alone</td>\n",
       "      <td>0.012026</td>\n",
       "    </tr>\n",
       "    <tr>\n",
       "      <th>8</th>\n",
       "      <td>Embarked_Q</td>\n",
       "      <td>0.008003</td>\n",
       "    </tr>\n",
       "  </tbody>\n",
       "</table>\n",
       "</div>"
      ],
      "text/plain": [
       "       feature  \\\n",
       "2         Fare   \n",
       "6        Title   \n",
       "5    is_female   \n",
       "1          Age   \n",
       "0       Pclass   \n",
       "3  Family_size   \n",
       "9   Embarked_S   \n",
       "7   Embarked_C   \n",
       "4     is_Alone   \n",
       "8   Embarked_Q   \n",
       "\n",
       "   RandomForestClassifier(min_samples_split=10, random_state=0) importance  \n",
       "2                                           0.202835                        \n",
       "6                                           0.199305                        \n",
       "5                                           0.193052                        \n",
       "1                                           0.184856                        \n",
       "0                                           0.106106                        \n",
       "3                                           0.065897                        \n",
       "9                                           0.014077                        \n",
       "7                                           0.013842                        \n",
       "4                                           0.012026                        \n",
       "8                                           0.008003                        "
      ]
     },
     "execution_count": 44,
     "metadata": {},
     "output_type": "execute_result"
    }
   ],
   "source": [
    "randfore.fit(X_train, y_train)\n",
    "feature_importances(randfore)"
   ]
  },
  {
   "cell_type": "markdown",
   "id": "5d798256",
   "metadata": {
    "papermill": {
     "duration": 0.029947,
     "end_time": "2022-06-27T03:26:02.876503",
     "exception": false,
     "start_time": "2022-06-27T03:26:02.846556",
     "status": "completed"
    },
    "tags": []
   },
   "source": [
    "## K-Nearest Neighbors"
   ]
  },
  {
   "cell_type": "code",
   "execution_count": 45,
   "id": "482ebfdb",
   "metadata": {
    "execution": {
     "iopub.execute_input": "2022-06-27T03:26:02.937888Z",
     "iopub.status.busy": "2022-06-27T03:26:02.937306Z",
     "iopub.status.idle": "2022-06-27T03:26:03.133804Z",
     "shell.execute_reply": "2022-06-27T03:26:03.132933Z"
    },
    "papermill": {
     "duration": 0.229692,
     "end_time": "2022-06-27T03:26:03.136013",
     "exception": false,
     "start_time": "2022-06-27T03:26:02.906321",
     "status": "completed"
    },
    "tags": []
   },
   "outputs": [
    {
     "name": "stdout",
     "output_type": "stream",
     "text": [
      "Fitting 5 folds for each of 8 candidates, totalling 40 fits\n",
      "Best parameter = {'n_neighbors': 13}\n"
     ]
    }
   ],
   "source": [
    "parameter = {'n_neighbors': list(range(1,16,2))}\n",
    "\n",
    "model_knn = GridSearchCV(KNeighborsClassifier(),\n",
    "                       parameter, n_jobs=-1, verbose=1)\n",
    "model_knn.fit(StandardScaler().fit_transform(X_train), y_train)\n",
    "\n",
    "print(f'Best parameter = {model_knn.best_params_}')"
   ]
  },
  {
   "cell_type": "code",
   "execution_count": 46,
   "id": "294aafcf",
   "metadata": {
    "execution": {
     "iopub.execute_input": "2022-06-27T03:26:03.176001Z",
     "iopub.status.busy": "2022-06-27T03:26:03.175188Z",
     "iopub.status.idle": "2022-06-27T03:26:03.271968Z",
     "shell.execute_reply": "2022-06-27T03:26:03.270540Z"
    },
    "papermill": {
     "duration": 0.119216,
     "end_time": "2022-06-27T03:26:03.274310",
     "exception": false,
     "start_time": "2022-06-27T03:26:03.155094",
     "status": "completed"
    },
    "tags": []
   },
   "outputs": [
    {
     "name": "stdout",
     "output_type": "stream",
     "text": [
      "accuracy score : [0.81564246 0.79775281 0.80898876 0.79775281 0.80898876]\n",
      "mean accuracy score : 0.8058251208335949 (0.007024554431295106)\n"
     ]
    }
   ],
   "source": [
    "knn = KNeighborsClassifier(n_neighbors=model_knn.best_params_['n_neighbors'])\n",
    "knn_pl = make_pipeline(StandardScaler(), knn)\n",
    "accuracy(knn_pl)"
   ]
  },
  {
   "cell_type": "markdown",
   "id": "ea029edb",
   "metadata": {
    "papermill": {
     "duration": 0.018359,
     "end_time": "2022-06-27T03:26:03.311751",
     "exception": false,
     "start_time": "2022-06-27T03:26:03.293392",
     "status": "completed"
    },
    "tags": []
   },
   "source": [
    "## Logistic Regeression"
   ]
  },
  {
   "cell_type": "code",
   "execution_count": 47,
   "id": "3f617bd3",
   "metadata": {
    "execution": {
     "iopub.execute_input": "2022-06-27T03:26:03.350616Z",
     "iopub.status.busy": "2022-06-27T03:26:03.350236Z",
     "iopub.status.idle": "2022-06-27T03:26:03.937954Z",
     "shell.execute_reply": "2022-06-27T03:26:03.936611Z"
    },
    "papermill": {
     "duration": 0.610687,
     "end_time": "2022-06-27T03:26:03.940689",
     "exception": false,
     "start_time": "2022-06-27T03:26:03.330002",
     "status": "completed"
    },
    "tags": []
   },
   "outputs": [
    {
     "name": "stdout",
     "output_type": "stream",
     "text": [
      "accuracy score : [0.7877095  0.80337079 0.79775281 0.80898876 0.82022472]\n",
      "mean accuracy score : 0.8036093151716777 (0.010882737613557647)\n"
     ]
    }
   ],
   "source": [
    "logreg=LogisticRegression(max_iter=1000)\n",
    "model_logreg = make_pipeline(RobustScaler(), logreg)\n",
    "accuracy(logreg)"
   ]
  },
  {
   "cell_type": "markdown",
   "id": "52e6c5c2",
   "metadata": {
    "papermill": {
     "duration": 0.030457,
     "end_time": "2022-06-27T03:26:04.001932",
     "exception": false,
     "start_time": "2022-06-27T03:26:03.971475",
     "status": "completed"
    },
    "tags": []
   },
   "source": [
    "## Support Vector Machine (SV Classifier)"
   ]
  },
  {
   "cell_type": "code",
   "execution_count": 48,
   "id": "545a946c",
   "metadata": {
    "execution": {
     "iopub.execute_input": "2022-06-27T03:26:04.065892Z",
     "iopub.status.busy": "2022-06-27T03:26:04.065522Z",
     "iopub.status.idle": "2022-06-27T03:26:05.662165Z",
     "shell.execute_reply": "2022-06-27T03:26:05.660582Z"
    },
    "papermill": {
     "duration": 1.631332,
     "end_time": "2022-06-27T03:26:05.664119",
     "exception": false,
     "start_time": "2022-06-27T03:26:04.032787",
     "status": "completed"
    },
    "tags": []
   },
   "outputs": [
    {
     "name": "stdout",
     "output_type": "stream",
     "text": [
      "Fitting 5 folds for each of 24 candidates, totalling 120 fits\n",
      "Best parameter = {'C': 2, 'gamma': 'scale'}\n"
     ]
    }
   ],
   "source": [
    "parameter = {'C': list(range(2,25,2)),\n",
    "             'gamma' : ['scale', 'auto']\n",
    "            }\n",
    "\n",
    "model_sv = GridSearchCV(SVC(),\n",
    "                       parameter, n_jobs=-1, verbose=1)\n",
    "\n",
    "model_sv.fit(StandardScaler().fit_transform(X_train), y_train)\n",
    "\n",
    "print(f'Best parameter = {model_sv.best_params_}')"
   ]
  },
  {
   "cell_type": "code",
   "execution_count": 49,
   "id": "87273eed",
   "metadata": {
    "execution": {
     "iopub.execute_input": "2022-06-27T03:26:05.705008Z",
     "iopub.status.busy": "2022-06-27T03:26:05.704360Z",
     "iopub.status.idle": "2022-06-27T03:26:05.954342Z",
     "shell.execute_reply": "2022-06-27T03:26:05.953107Z"
    },
    "papermill": {
     "duration": 0.273776,
     "end_time": "2022-06-27T03:26:05.956772",
     "exception": false,
     "start_time": "2022-06-27T03:26:05.682996",
     "status": "completed"
    },
    "tags": []
   },
   "outputs": [
    {
     "name": "stdout",
     "output_type": "stream",
     "text": [
      "accuracy score : [0.81564246 0.82022472 0.80898876 0.79775281 0.87640449]\n",
      "mean accuracy score : 0.8238026489234824 (0.02736563460818489)\n"
     ]
    }
   ],
   "source": [
    "sv = SVC(\n",
    "    C = model_sv.best_params_['C'], \n",
    "    kernel ='rbf',\n",
    "    gamma = model_sv.best_params_['gamma'],\n",
    ")\n",
    "sv_pl = make_pipeline(StandardScaler(), sv)\n",
    "\n",
    "accuracy(sv_pl)"
   ]
  },
  {
   "cell_type": "markdown",
   "id": "813cb6e6",
   "metadata": {
    "papermill": {
     "duration": 0.03044,
     "end_time": "2022-06-27T03:26:06.017809",
     "exception": false,
     "start_time": "2022-06-27T03:26:05.987369",
     "status": "completed"
    },
    "tags": []
   },
   "source": [
    "## Gradient Boosting"
   ]
  },
  {
   "cell_type": "code",
   "execution_count": 50,
   "id": "f3a502f5",
   "metadata": {
    "execution": {
     "iopub.execute_input": "2022-06-27T03:26:06.081503Z",
     "iopub.status.busy": "2022-06-27T03:26:06.080951Z",
     "iopub.status.idle": "2022-06-27T03:26:07.879547Z",
     "shell.execute_reply": "2022-06-27T03:26:07.878466Z"
    },
    "papermill": {
     "duration": 1.8326,
     "end_time": "2022-06-27T03:26:07.881428",
     "exception": false,
     "start_time": "2022-06-27T03:26:06.048828",
     "status": "completed"
    },
    "tags": []
   },
   "outputs": [
    {
     "name": "stdout",
     "output_type": "stream",
     "text": [
      "Fitting 5 folds for each of 9 candidates, totalling 45 fits\n",
      "Best parameter = {'learning_rate': 0.1, 'max_leaf_nodes': 8, 'min_samples_split': 20}\n"
     ]
    }
   ],
   "source": [
    "parameter = {'learning_rate': list(np.arange(0.1, 0.6)),\n",
    "             'min_samples_split' : [10, 15, 20],\n",
    "             'max_leaf_nodes' : [8, 16, 32]\n",
    "            }\n",
    "\n",
    "model_gb = GridSearchCV(GradientBoostingClassifier(),\n",
    "                       parameter, n_jobs=-1, verbose=1)\n",
    "model_gb.fit(X_train, y_train)\n",
    "\n",
    "print(f'Best parameter = {model_gb.best_params_}')"
   ]
  },
  {
   "cell_type": "code",
   "execution_count": 51,
   "id": "2b88801a",
   "metadata": {
    "execution": {
     "iopub.execute_input": "2022-06-27T03:26:07.922838Z",
     "iopub.status.busy": "2022-06-27T03:26:07.921335Z",
     "iopub.status.idle": "2022-06-27T03:26:08.482140Z",
     "shell.execute_reply": "2022-06-27T03:26:08.481201Z"
    },
    "papermill": {
     "duration": 0.584148,
     "end_time": "2022-06-27T03:26:08.484969",
     "exception": false,
     "start_time": "2022-06-27T03:26:07.900821",
     "status": "completed"
    },
    "tags": []
   },
   "outputs": [
    {
     "name": "stdout",
     "output_type": "stream",
     "text": [
      "accuracy score : [0.81564246 0.80898876 0.87078652 0.82022472 0.83707865]\n",
      "mean accuracy score : 0.8305442219571904 (0.022160025006624007)\n"
     ]
    }
   ],
   "source": [
    "gb = GradientBoostingClassifier(\n",
    "    learning_rate = model_gb.best_params_['learning_rate'], \n",
    "    min_samples_split = model_gb.best_params_['min_samples_split'], \n",
    "    max_leaf_nodes = model_gb.best_params_['max_leaf_nodes']\n",
    ")\n",
    "accuracy(gb)"
   ]
  },
  {
   "cell_type": "code",
   "execution_count": 52,
   "id": "050090e3",
   "metadata": {
    "execution": {
     "iopub.execute_input": "2022-06-27T03:26:08.548480Z",
     "iopub.status.busy": "2022-06-27T03:26:08.548100Z",
     "iopub.status.idle": "2022-06-27T03:26:08.688303Z",
     "shell.execute_reply": "2022-06-27T03:26:08.687230Z"
    },
    "papermill": {
     "duration": 0.174708,
     "end_time": "2022-06-27T03:26:08.690400",
     "exception": false,
     "start_time": "2022-06-27T03:26:08.515692",
     "status": "completed"
    },
    "tags": []
   },
   "outputs": [
    {
     "data": {
      "text/html": [
       "<div>\n",
       "<style scoped>\n",
       "    .dataframe tbody tr th:only-of-type {\n",
       "        vertical-align: middle;\n",
       "    }\n",
       "\n",
       "    .dataframe tbody tr th {\n",
       "        vertical-align: top;\n",
       "    }\n",
       "\n",
       "    .dataframe thead th {\n",
       "        text-align: right;\n",
       "    }\n",
       "</style>\n",
       "<table border=\"1\" class=\"dataframe\">\n",
       "  <thead>\n",
       "    <tr style=\"text-align: right;\">\n",
       "      <th></th>\n",
       "      <th>feature</th>\n",
       "      <th>GradientBoostingClassifier(max_leaf_nodes=8, min_samples_split=20) importance</th>\n",
       "    </tr>\n",
       "  </thead>\n",
       "  <tbody>\n",
       "    <tr>\n",
       "      <th>5</th>\n",
       "      <td>is_female</td>\n",
       "      <td>0.459037</td>\n",
       "    </tr>\n",
       "    <tr>\n",
       "      <th>0</th>\n",
       "      <td>Pclass</td>\n",
       "      <td>0.151038</td>\n",
       "    </tr>\n",
       "    <tr>\n",
       "      <th>2</th>\n",
       "      <td>Fare</td>\n",
       "      <td>0.141631</td>\n",
       "    </tr>\n",
       "    <tr>\n",
       "      <th>1</th>\n",
       "      <td>Age</td>\n",
       "      <td>0.120930</td>\n",
       "    </tr>\n",
       "    <tr>\n",
       "      <th>3</th>\n",
       "      <td>Family_size</td>\n",
       "      <td>0.075543</td>\n",
       "    </tr>\n",
       "    <tr>\n",
       "      <th>6</th>\n",
       "      <td>Title</td>\n",
       "      <td>0.026793</td>\n",
       "    </tr>\n",
       "    <tr>\n",
       "      <th>9</th>\n",
       "      <td>Embarked_S</td>\n",
       "      <td>0.014110</td>\n",
       "    </tr>\n",
       "    <tr>\n",
       "      <th>7</th>\n",
       "      <td>Embarked_C</td>\n",
       "      <td>0.004937</td>\n",
       "    </tr>\n",
       "    <tr>\n",
       "      <th>4</th>\n",
       "      <td>is_Alone</td>\n",
       "      <td>0.003467</td>\n",
       "    </tr>\n",
       "    <tr>\n",
       "      <th>8</th>\n",
       "      <td>Embarked_Q</td>\n",
       "      <td>0.002513</td>\n",
       "    </tr>\n",
       "  </tbody>\n",
       "</table>\n",
       "</div>"
      ],
      "text/plain": [
       "       feature  \\\n",
       "5    is_female   \n",
       "0       Pclass   \n",
       "2         Fare   \n",
       "1          Age   \n",
       "3  Family_size   \n",
       "6        Title   \n",
       "9   Embarked_S   \n",
       "7   Embarked_C   \n",
       "4     is_Alone   \n",
       "8   Embarked_Q   \n",
       "\n",
       "   GradientBoostingClassifier(max_leaf_nodes=8, min_samples_split=20) importance  \n",
       "5                                           0.459037                              \n",
       "0                                           0.151038                              \n",
       "2                                           0.141631                              \n",
       "1                                           0.120930                              \n",
       "3                                           0.075543                              \n",
       "6                                           0.026793                              \n",
       "9                                           0.014110                              \n",
       "7                                           0.004937                              \n",
       "4                                           0.003467                              \n",
       "8                                           0.002513                              "
      ]
     },
     "execution_count": 52,
     "metadata": {},
     "output_type": "execute_result"
    }
   ],
   "source": [
    "gb.fit(X_train, y_train)\n",
    "feature_importances(gb)"
   ]
  },
  {
   "cell_type": "markdown",
   "id": "5332107a",
   "metadata": {
    "papermill": {
     "duration": 0.031214,
     "end_time": "2022-06-27T03:26:08.752821",
     "exception": false,
     "start_time": "2022-06-27T03:26:08.721607",
     "status": "completed"
    },
    "tags": []
   },
   "source": [
    "## Stacking"
   ]
  },
  {
   "cell_type": "code",
   "execution_count": 53,
   "id": "ab147149",
   "metadata": {
    "execution": {
     "iopub.execute_input": "2022-06-27T03:26:08.817112Z",
     "iopub.status.busy": "2022-06-27T03:26:08.816381Z",
     "iopub.status.idle": "2022-06-27T03:26:16.309655Z",
     "shell.execute_reply": "2022-06-27T03:26:16.308199Z"
    },
    "papermill": {
     "duration": 7.527561,
     "end_time": "2022-06-27T03:26:16.311695",
     "exception": false,
     "start_time": "2022-06-27T03:26:08.784134",
     "status": "completed"
    },
    "tags": []
   },
   "outputs": [
    {
     "name": "stdout",
     "output_type": "stream",
     "text": [
      "accuracy score : [0.81564246 0.8258427  0.83146067 0.80337079 0.84831461]\n",
      "mean accuracy score : 0.8249262444291006 (0.015108809367836052)\n"
     ]
    }
   ],
   "source": [
    "models = {\n",
    "    'Random Forest':randfore,\n",
    "    'K-Nearest Neighbors':knn_pl,\n",
    "    'Gradient Boosting': gb,\n",
    "    'Support Vector Machine' : sv_pl\n",
    "    \n",
    "}\n",
    "model_stack = get_stacking(models, logreg)\n",
    "accuracy(model_stack)"
   ]
  },
  {
   "cell_type": "code",
   "execution_count": 54,
   "id": "5bef3bc9",
   "metadata": {
    "execution": {
     "iopub.execute_input": "2022-06-27T03:26:16.352793Z",
     "iopub.status.busy": "2022-06-27T03:26:16.351123Z",
     "iopub.status.idle": "2022-06-27T03:26:18.769346Z",
     "shell.execute_reply": "2022-06-27T03:26:18.767693Z"
    },
    "papermill": {
     "duration": 2.441126,
     "end_time": "2022-06-27T03:26:18.772023",
     "exception": false,
     "start_time": "2022-06-27T03:26:16.330897",
     "status": "completed"
    },
    "tags": []
   },
   "outputs": [],
   "source": [
    "model_stack.fit(X_train, y_train)\n",
    "y_pred = model_stack.predict(X_test)"
   ]
  },
  {
   "cell_type": "code",
   "execution_count": 55,
   "id": "44bfdea6",
   "metadata": {
    "execution": {
     "iopub.execute_input": "2022-06-27T03:26:18.837203Z",
     "iopub.status.busy": "2022-06-27T03:26:18.836745Z",
     "iopub.status.idle": "2022-06-27T03:26:18.841992Z",
     "shell.execute_reply": "2022-06-27T03:26:18.840860Z"
    },
    "papermill": {
     "duration": 0.041063,
     "end_time": "2022-06-27T03:26:18.844782",
     "exception": false,
     "start_time": "2022-06-27T03:26:18.803719",
     "status": "completed"
    },
    "tags": []
   },
   "outputs": [],
   "source": [
    "d_stack = {'PassengerId': passengerID, 'Survived': y_pred}\n",
    "sub_stack = pd.DataFrame(data=d_stack)"
   ]
  },
  {
   "cell_type": "code",
   "execution_count": 56,
   "id": "5d59e015",
   "metadata": {
    "execution": {
     "iopub.execute_input": "2022-06-27T03:26:18.911330Z",
     "iopub.status.busy": "2022-06-27T03:26:18.910934Z",
     "iopub.status.idle": "2022-06-27T03:26:18.922244Z",
     "shell.execute_reply": "2022-06-27T03:26:18.921323Z"
    },
    "papermill": {
     "duration": 0.047234,
     "end_time": "2022-06-27T03:26:18.924436",
     "exception": false,
     "start_time": "2022-06-27T03:26:18.877202",
     "status": "completed"
    },
    "tags": []
   },
   "outputs": [
    {
     "data": {
      "text/html": [
       "<div>\n",
       "<style scoped>\n",
       "    .dataframe tbody tr th:only-of-type {\n",
       "        vertical-align: middle;\n",
       "    }\n",
       "\n",
       "    .dataframe tbody tr th {\n",
       "        vertical-align: top;\n",
       "    }\n",
       "\n",
       "    .dataframe thead th {\n",
       "        text-align: right;\n",
       "    }\n",
       "</style>\n",
       "<table border=\"1\" class=\"dataframe\">\n",
       "  <thead>\n",
       "    <tr style=\"text-align: right;\">\n",
       "      <th></th>\n",
       "      <th>PassengerId</th>\n",
       "      <th>Survived</th>\n",
       "    </tr>\n",
       "  </thead>\n",
       "  <tbody>\n",
       "    <tr>\n",
       "      <th>0</th>\n",
       "      <td>892</td>\n",
       "      <td>0</td>\n",
       "    </tr>\n",
       "    <tr>\n",
       "      <th>1</th>\n",
       "      <td>893</td>\n",
       "      <td>0</td>\n",
       "    </tr>\n",
       "    <tr>\n",
       "      <th>2</th>\n",
       "      <td>894</td>\n",
       "      <td>0</td>\n",
       "    </tr>\n",
       "    <tr>\n",
       "      <th>3</th>\n",
       "      <td>895</td>\n",
       "      <td>0</td>\n",
       "    </tr>\n",
       "    <tr>\n",
       "      <th>4</th>\n",
       "      <td>896</td>\n",
       "      <td>0</td>\n",
       "    </tr>\n",
       "    <tr>\n",
       "      <th>...</th>\n",
       "      <td>...</td>\n",
       "      <td>...</td>\n",
       "    </tr>\n",
       "    <tr>\n",
       "      <th>413</th>\n",
       "      <td>1305</td>\n",
       "      <td>0</td>\n",
       "    </tr>\n",
       "    <tr>\n",
       "      <th>414</th>\n",
       "      <td>1306</td>\n",
       "      <td>1</td>\n",
       "    </tr>\n",
       "    <tr>\n",
       "      <th>415</th>\n",
       "      <td>1307</td>\n",
       "      <td>0</td>\n",
       "    </tr>\n",
       "    <tr>\n",
       "      <th>416</th>\n",
       "      <td>1308</td>\n",
       "      <td>0</td>\n",
       "    </tr>\n",
       "    <tr>\n",
       "      <th>417</th>\n",
       "      <td>1309</td>\n",
       "      <td>0</td>\n",
       "    </tr>\n",
       "  </tbody>\n",
       "</table>\n",
       "<p>418 rows × 2 columns</p>\n",
       "</div>"
      ],
      "text/plain": [
       "     PassengerId  Survived\n",
       "0            892         0\n",
       "1            893         0\n",
       "2            894         0\n",
       "3            895         0\n",
       "4            896         0\n",
       "..           ...       ...\n",
       "413         1305         0\n",
       "414         1306         1\n",
       "415         1307         0\n",
       "416         1308         0\n",
       "417         1309         0\n",
       "\n",
       "[418 rows x 2 columns]"
      ]
     },
     "execution_count": 56,
     "metadata": {},
     "output_type": "execute_result"
    }
   ],
   "source": [
    "sub_stack"
   ]
  },
  {
   "cell_type": "code",
   "execution_count": 57,
   "id": "61e948c7",
   "metadata": {
    "execution": {
     "iopub.execute_input": "2022-06-27T03:26:18.983945Z",
     "iopub.status.busy": "2022-06-27T03:26:18.983559Z",
     "iopub.status.idle": "2022-06-27T03:26:18.992001Z",
     "shell.execute_reply": "2022-06-27T03:26:18.991281Z"
    },
    "papermill": {
     "duration": 0.042991,
     "end_time": "2022-06-27T03:26:18.993751",
     "exception": false,
     "start_time": "2022-06-27T03:26:18.950760",
     "status": "completed"
    },
    "tags": []
   },
   "outputs": [],
   "source": [
    "sub_stack.to_csv('submission1.csv', index=False)"
   ]
  },
  {
   "cell_type": "code",
   "execution_count": null,
   "id": "94245420",
   "metadata": {
    "papermill": {
     "duration": 0.018988,
     "end_time": "2022-06-27T03:26:19.031793",
     "exception": false,
     "start_time": "2022-06-27T03:26:19.012805",
     "status": "completed"
    },
    "tags": []
   },
   "outputs": [],
   "source": []
  }
 ],
 "metadata": {
  "kernelspec": {
   "display_name": "Python 3",
   "language": "python",
   "name": "python3"
  },
  "language_info": {
   "codemirror_mode": {
    "name": "ipython",
    "version": 3
   },
   "file_extension": ".py",
   "mimetype": "text/x-python",
   "name": "python",
   "nbconvert_exporter": "python",
   "pygments_lexer": "ipython3",
   "version": "3.7.12"
  },
  "papermill": {
   "default_parameters": {},
   "duration": 57.071336,
   "end_time": "2022-06-27T03:26:21.673621",
   "environment_variables": {},
   "exception": null,
   "input_path": "__notebook__.ipynb",
   "output_path": "__notebook__.ipynb",
   "parameters": {},
   "start_time": "2022-06-27T03:25:24.602285",
   "version": "2.3.4"
  }
 },
 "nbformat": 4,
 "nbformat_minor": 5
}
